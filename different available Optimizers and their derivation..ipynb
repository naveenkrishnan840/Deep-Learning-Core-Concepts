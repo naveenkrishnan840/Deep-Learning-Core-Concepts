{
 "cells": [
  {
   "cell_type": "markdown",
   "metadata": {},
   "source": [
    "# Different Available Optimizers And Their Derivation."
   ]
  },
  {
   "cell_type": "markdown",
   "metadata": {},
   "source": [
    "**Optimizers are algorithms or methods used to minimize an error function(loss function)or to maximize the efficiency of production. Optimizers are mathematical functions which are dependent on model’s learnable parameters i.e Weights & Biases. Optimizers help to know how to change weights and learning rate of neural network to reduce the losses**\n",
    "<img src=\"https://miro.medium.com/max/578/1*65Mxg_Yfq-L7AvaS0K5aGA.png\"/>\n",
    "\n",
    "### Optimizers have one of the following goals:\n",
    "\n",
    "\n",
    "\n",
    "* Find the global minimum of the objective function. This is feasible if the objective function is convex, i.e. any local minimum is a global minimum.\n",
    "\n",
    "\n",
    "* Find the lowest possible value of the objective function within its neighborhood. That’s usually the case if the objective function is not convex as the case in most deep learning problems.\n",
    "\n",
    "\n",
    "\n",
    "## Types of Optimizers:\n",
    "   \n",
    "   \n",
    "### Gradient Descent Optimizers:  \n",
    "\n",
    "\n",
    "* Gradient Descent is the most common optimization algorithm in machine learning and deep learning. It is a first-order optimization algorithm. \n",
    "\n",
    "\n",
    "* Gradient descent is an optimization algorithm based on a convex function and tweaks its parameters iteratively to minimize a given function to its local minimum. \n",
    "\n",
    "\n",
    "* Gradient Descent iteratively reduces a loss function by moving in the direction opposite to that of steepest ascent. \n",
    "\n",
    "\n",
    "* It is dependent on the derivatives of the loss function for finding minima. uses the data of the entire training set to calculate the gradient of the cost function to the parameters which requires large amount of memory and slows down the process.\n",
    "\n",
    "\n",
    "#### Derviation Formula:\n",
    "\n",
    "                                                Weight update formula:\n",
    "$$w_{t} = w_{t-1}+ \\Delta w \\rightarrow (1)$$\n",
    "\n",
    "$$\\Delta  w = - \\eta * \\Delta C \\rightarrow (2) \\\\\\ \\Delta C \\rightarrow Cost \\ function$$\n",
    "\n",
    "$$\\Delta C= \\frac{\\partial C}{\\partial w} \\rightarrow (3)$$\n",
    "\n",
    "                           \n",
    "\n",
    "$$ (3)\\ (2) \\ \\rightarrow \\ \\Delta  w = - \\eta * \\frac{\\partial C}{\\partial w} \\rightarrow  (4)$$ \n",
    "\n",
    "\n",
    "$$  (4)\\ in\\ (1) \\ \\rightarrow w_{t} = w_{t-1}  - \\eta * \\frac{\\partial C}{\\partial w} w$$\n",
    "\n",
    "\n",
    "  <center>Bias update formula:</center>\n",
    "  \n",
    "  \n",
    "$$b_{t} = b_{t-1}+ \\Delta b \\rightarrow (1)$$\n",
    "\n",
    "$$\\Delta  b = - \\eta * \\Delta C \\rightarrow (2)$$\n",
    "\n",
    "$$\\Delta C= \\frac{\\partial C}{\\partial b} \\rightarrow (3)$$\n",
    "\n",
    "                           \n",
    "\n",
    "$$ (3)\\ (2) \\ \\rightarrow \\ \\Delta  b = - \\eta * \\frac{\\partial C}{\\partial b} \\rightarrow  (4)$$ \n",
    "\n",
    "\n",
    "$$  (4)\\ in\\ (1) \\ \\rightarrow b_{t} = b_{t-1}  - \\eta * \\frac{\\partial C}{\\partial b} w$$\n",
    "\n",
    "\n",
    "* Weight update $\\Delta w$ is directly proportional to   $\\frac{\\partial C}{\\partial w}$\n",
    "\n",
    "\n",
    "Condition:\n",
    "\n",
    "\n",
    "$\\Delta w \\ is \\ high \\ if \\ \\frac{\\partial C}{\\partial w} \\ is \\ also \\ high \\rightarrow \\ more \\ steep$\n",
    "    \n",
    "$\\Delta w \\ is \\ low \\ if \\ \\frac{\\partial C}{\\partial w} \\ is \\ also \\ low \\rightarrow \\ Flat \\ Surface, close \\ to \\ local \\ minima \\ or \\ maxima$\n",
    "\n",
    "\n",
    "**How to use Learning Rate:**\n",
    "\n",
    "* If α is very small, it would take long time to converge and become computationally expensive.\n",
    "\n",
    "\n",
    "* If α is large, it may fail to converge and overshoot the minimum.\n",
    "\n",
    "\n",
    "<img src=\"https://miro.medium.com/max/700/1*rcmvCjQvsxrJi8Y4HpGcCw.png\"/>\n",
    "\n",
    "<img src=\"https://miro.medium.com/max/700/1*An4tZEyQAYgPAZl396JzWg.png\"/>\n",
    "\n",
    "\n",
    "\n",
    "\n",
    "### Batch Gradient Descent Optimizers:\n",
    "\n",
    "\n",
    "* Vanilla gradient descent, aka batch gradient descent, computes the gradient of the cost function w.r.t. to the parameters θ for the entire training dataset:\n",
    "\n",
    "\n",
    "$$w = w  - \\eta * \\frac{\\partial C}{\\partial w} \\\\$$\n",
    "$$b = b  - \\eta * \\frac{\\partial C}{\\partial b}$$\n",
    "\n",
    "<img src=\"https://media.geeksforgeeks.org/wp-content/uploads/gdp.png\"/>\n",
    "\n",
    "**<center>Figure :- Gradient BGD</center>** \n",
    "\n",
    "* As we need to calculate the gradients for the whole dataset to perform just one update, batch gradient descent can be very slow and is intractable for datasets that don't fit in memory. Batch gradient descent also doesn't allow us to update our model online.\n",
    "\n",
    "\n",
    "#### Advantages:\n",
    "\n",
    "\n",
    "* We can use fixed learning rate during training without worrying about learning rate decay.\n",
    "\n",
    "\n",
    "* It has straight trajectory towards the minimum and it is guaranteed to converge in theory to the global minimum if the loss function is convex and to a local minimum if the loss function is not convex.\n",
    "\n",
    "\n",
    "\n",
    "* It has unbiased estimate of gradients. The more the examples, the lower the standard error.\n",
    "\n",
    "\n",
    "\n",
    "#### Disadvantages:\n",
    "\n",
    "\n",
    "* Because this method calculates the gradient for the entire data set in one update, the calculation is very slow, it will be very tricky to encounter a large number of data sets, and you cannot invest in new data to update the model in real time. This resolved by SGD\n",
    "\n",
    "\n",
    "\n",
    "* We will define an iteration number epoch in advance, first calculate the gradient vector params_grad, and then update the parameter params along the direction of the gradient. The learning rate determines how big we take each step.\n",
    "\n",
    "\n",
    "\n",
    "* Batch gradient descent can converge to a global minimum for convex functions and to a local minimum for non-convex functions.\n",
    "\n",
    "* It does not depends upon consider past weight update.\n",
    "\n",
    "\n",
    "* It will stuck at saddle point so slope is less\n",
    "\n",
    "* slow for deep neural network\n",
    "\n",
    "\n",
    "### Stochastic Gradient Descent:\n",
    "\n",
    "\n",
    "**Gradient update rule**: Compared with BGD's calculation of gradients with all data at one time, SGD updates the gradient of each sample with each update.\n",
    "\n",
    "\n",
    "* It is a variant of Gradient Descent. It update the model parameters one by one. If the model has 10K dataset SGD will update the model parameters 10k times for training example $x^{i} , y^{i}$:\n",
    "\n",
    "\n",
    "$$w = w  - \\eta * \\frac{\\partial C}{\\partial w} \\mid_{(x^{i},y^{i})}$$\n",
    "$$w = b  - \\eta * \\frac{\\partial C}{\\partial b} \\mid_{(x^{i},y^{i})}$$\n",
    "\n",
    "\n",
    "* For large data sets, there may be similar samples, so BGD calculates the gradient. There will be redundancy, and SGD is updated only once, there is no redundancy, it is faster, and new samples can be added.\n",
    "\n",
    "\n",
    "\n",
    "<img src=\"https://ruder.io/content/images/2016/09/sgd_fluctuation.png\"/>\n",
    "\n",
    "**<center>Figure :- Fluctuations in SGD</center>** \n",
    "\n",
    "\n",
    "* In SGD, since only one sample from the dataset is chosen at random for each iteration, the path taken by the algorithm to reach the minima is usually noisier than your typical Gradient Descent algorithm. But that doesn’t matter all that much because the path taken by the algorithm does not matter, as long as we reach the minima and with significantly shorter training time.\n",
    "\n",
    "\n",
    "<img src=\"https://miro.medium.com/max/606/1*RGfDmTb1yhzGLclpnWK8tA.png\"/>\n",
    "\n",
    "**<center>Figure :- Gradient SGD</center>** \n",
    "\n",
    "\n",
    "\n",
    "### Mini-batch gradient descent:\n",
    "\n",
    "\n",
    "**Gradient update rule:** MBGD uses a small batch of samples, that is, n samples to calculate each time. In\n",
    "this way, it can reduce the variance when the parameters are updated, and the convergence is more stable.\n",
    " It can make full use of the highly optimized matrix operations in the deep learning library for more efficient gradient calculations.\n",
    "\n",
    "\n",
    "$$w = w  - \\eta * \\frac{\\partial C}{\\partial w} \\mid_{(x_{i+n},y_{i+n})}$$\n",
    " \n",
    "**The difference from SGD is that each cycle does not act on each sample, but a batch with n samples.**\n",
    "\n",
    ">Setting value of hyper-parameters:\n",
    "n Generally value is 50 ～ 256\n",
    "\n",
    "\n",
    "<img src=\"https://miro.medium.com/max/605/1*DT91N-b0OCW7RQQ_7gtEiA.png\"/>\n",
    "\n",
    "\n",
    "**<center>Figure :- Gradient of MBGD</center>** \n",
    "\n",
    "**Cons:**\n",
    "\n",
    "* Mini-batch gradient descent does not guarantee good convergence,\n",
    "\n",
    "* If the learning rate is too small, the convergence rate will be slow. If it is too large, the loss function will oscillate or even deviate at the minimum value.\n",
    "One measure is to set a **larger learning rate**. When the change between two iterations is lower than a certain threshold, the learning rate is reduced.\n",
    "\n",
    "However, the setting of this threshold needs to be written in advance adapt to the characteristics of the data set.\n",
    "\n",
    "In addition, this method is to apply the **same learning rate** to all parameter updates. If our data is sparse, we would prefer to update the features with lower frequency.\n",
    "\n",
    "In addition, for **non-convex functions**, it is also necessary to avoid trapping at the local minimum or saddle point, because the error around the saddle point is the same, the gradients of all dimensions are close to 0, and SGD is easily trapped here.\n",
    "\n",
    "**Saddle points** are the curves, surfaces, or hypersurfaces of a saddle point neighborhood of a smooth function are located on different sides of a tangent to this point.\n",
    "For example, this two-dimensional figure looks like a saddle: it curves up in the x-axis direction and down in the y-axis direction, and the saddle point is (0,0).\n",
    "\n",
    "\n",
    "### Stochastic Gradient Descent With Momentum:\n",
    "\n",
    "* One disadvantage of the SGD method is that its update direction depends entirely on the current batch, so its update is very unstable. A simple way to solve this problem is to introduce momentum.\n",
    "\n",
    "\n",
    "* SGD with momentum which almost always works better and faster than Stochastic Gradient Descent. Momentum or SGD with momentum is method which helps accelerate gradients vectors in the right directions, thus leading to faster converging. \n",
    "\n",
    "\n",
    "* It is one of the most popular optimization algorithms and many state-of-the-art models are trained using it. Before jumping over to the update equations of the algorithm, let’s look at some math that underlies the work of momentum.\n",
    "\n",
    "\n",
    "* Stochastic Gradient Descent With Momentum using by exponential weighted moving average .In EWMA is explained in batch normalization section \n",
    "\n",
    "\n",
    "<img src=\"https://miro.medium.com/max/700/0*ScJX8Fn1yqpoEwCG.jpg\"/>\n",
    "\n",
    "\n",
    "* The above method generally using in prediction of time series data, we will use this analogy for Gradient Descent Momentum.\n",
    "\n",
    "\n",
    "* Consider an example where we are trying to optimize a cost function which has contours like below and the red dot denotes the position of the local optima (minimum).\n",
    "\n",
    "\n",
    "* We start gradient descent from point ‘A’ and after one iteration of gradient descent we may end up at point ‘B’, the other side of the ellipse. \n",
    "\n",
    "\n",
    "* Then another step of gradient descent may end up at point ‘C’. With each iteration of gradient descent, we move towards the local optima with up and down oscillations. \n",
    "\n",
    "\n",
    "* If we use larger learning rate then the vertical oscillation will have higher magnitude. So, this vertical oscillation slows down our gradient descent and prevents us from using a much larger learning rate.\n",
    "\n",
    "\n",
    "<img src=\"https://miro.medium.com/max/636/0*vwP3cGsR7FHzZOPB.jpg\"/>\n",
    "\n",
    "SO\n",
    "\n",
    "* In vertical direction we want slow learning\n",
    "* In horizontal direction we want fast learning\n",
    "\n",
    "\n",
    "**IDEA**:\n",
    "\n",
    "\n",
    "* To achieve this we introduce momentum with gradient descent in above diagram it shows in vertical direction it has ups and downs of gradients , we want slow learning rate in vertical direction so we will cancel out the gradients dw and db by applying exponential smoothing averages.\n",
    "\n",
    "\n",
    "\n",
    "* By using the exponentially weighted average values of dw and db, we tend to average out the oscillations in the vertical direction closer to zero as they are in both directions (positive and negative).\n",
    "\n",
    "\n",
    "\n",
    "* Whereas, on the horizontal direction, all the derivatives are pointing to the right of the horizontal direction, so the average in the horizontal direction will still be pretty big. It allows our algorithm to take more straight forwards path towards local optima and damp out vertical oscillations. Due to this reason, the algorithm will end up at local optima with a few iterations.\n",
    "\n",
    "\n",
    "<img src=\"https://miro.medium.com/max/700/0*-KaQBXarGsjd1a8E.jpg\"/>\n",
    "\n",
    "\n",
    "\n",
    "* In momentum, instead of using dw and db independently for each epoch, we take the exponentially weighted averages of dw and db.\n",
    "\n",
    "\n",
    "\n",
    "$$V_{dw} = \\beta * V_{dw} + (1-\\beta)* dw$$\n",
    "\n",
    "\n",
    "$$V_{db} = \\beta * V_{db} + (1-\\beta)* db$$\n",
    "\n",
    "\n",
    "\n",
    "<center>dw $\\rightarrow$ acceleration</center>\n",
    "\n",
    "\n",
    "<center>$V_{dw}$ $\\rightarrow$ Velocity</center>\n",
    "\n",
    "\n",
    "* if we combine both we got momentum it is an analogy with physics you drop a coin in a bowl it has acceleration \n",
    "\n",
    "    and velocity then it got momentum then it directly reach to center(minimum) pointWhere beta ‘β’ is another \n",
    "    \n",
    "    hyperparameter called momentum and ranges from 0 to 1. \n",
    "    \n",
    "    \n",
    "* It sets the weight between the average of previous values and the current value to calculate the new weighted average.\n",
    "\n",
    "\n",
    "* After calculating exponentially weighted averages, we will update our parameters.\n",
    "\n",
    "\n",
    "$$ w = w — \\eta  *V_{dW}$$\n",
    "$$ b = b — \\eta  * V_{db}$$\n",
    "\n",
    "\n",
    "**How to select beta?**\n",
    "\n",
    "\n",
    "* The momentum (beta) must be higher to smooth out the update because we give more weight to the past gradients.\n",
    "\n",
    "\n",
    "* It is recommended to use the default value for β = 0.9 but if required, it can be tuned between 0.8 to 0.999.\n",
    "\n",
    "\n",
    "* Momentum takes past gradients into account to smooth out the steps of gradient descent. \n",
    "\n",
    "\n",
    "* It can be applied with batch gradient descent, mini-batch gradient descent or stochastic gradient descent.\n",
    "\n",
    "\n",
    "\n",
    "#### Derviation with Expression:\n",
    "\n",
    "Initially w = $w_{0}$ , $m_{0}$ = 0 ,$\\beta$ = 0.9\n",
    "\n",
    "\n",
    "* step1:\n",
    "\n",
    "\n",
    "$$m_{1} = \\beta * m_{0} + (1- \\beta)*  \\frac{\\partial C}{\\partial w}\\mid_{w=w_{0}} \\rightarrow (1)$$\n",
    "\n",
    "\n",
    "$$ m_{1} = (1- \\beta) * \\frac{\\partial C}{\\partial w}\\mid_{w=w_{0}}$$\n",
    "\n",
    "$$w_{1} = w_{0} - \\eta * m_{1}$$\n",
    "\n",
    "$$w_{1} = w_{0} - \\eta* (1- \\beta) *  \\frac{\\partial C}{\\partial w}\\mid_{w=w_{0}}$$\n",
    "\n",
    "\n",
    "* step2:\n",
    "\n",
    "$w = w_{1} , m_{1} =  (1-\\beta) * \\frac{\\partial C}{\\partial w}\\mid_{w=w_{0}} ,\\beta = 0.9$\n",
    "\n",
    "\n",
    "$$ m2 = \\beta* m_{1} + (1-\\beta)* \\frac{\\partial C}{\\partial w}\\mid_{w=w_{1}}$$\n",
    "\n",
    "\n",
    "$$ m2 = \\beta * (1-\\beta)*  \\frac{\\partial C}{\\partial w}\\mid_{w=w_{0}} + (1-\\beta)* \\frac{\\partial C}{\\partial w}\\mid_{w=w_{1}}$$\n",
    "\n",
    "\n",
    "$$ m2 = (1-\\beta) \\ [\\ \\beta* \\frac{\\partial C}{\\partial w}\\mid_{w=w_{0}} + \\frac{\\partial C}{\\partial w}\\mid_{w=w_{1}}\\]\\$$\n",
    "\n",
    "\n",
    "                                               past_gradient 90%    present_gradient 100%\n",
    "                                               \n",
    "                                               \n",
    "$$w_{2} = w_{1} - \\eta * m_{2}$$\n",
    "\n",
    "\n",
    "$$w_{2} = w_{1} - \\eta * (1-\\beta) \\ [\\ \\beta* \\frac{\\partial C}{\\partial w}\\mid_{w=w_{0}} + \\frac{\\partial C}{\\partial w}\\mid_{w=w_{1}}\\]\\$$\n",
    "\n",
    "\n",
    "\n",
    "* Step 3:\n",
    "\n",
    "$w = w_{2} , m_{2} = (1-\\beta) \\ [\\ \\beta* \\frac{\\partial C}{\\partial w}\\mid_{w=w_{0}} + \\frac{\\partial C}{\\partial w}\\mid_{w=w_{1}}\\ ] ,\\beta = 0.9$\n",
    "\n",
    "\n",
    "$$ m3 = \\beta* m_{2} + (1-\\beta) * \\frac{\\partial C}{\\partial w}\\mid_{w=w_{2}}$$\n",
    "\n",
    "\n",
    "$$ m3 = \\beta * (1-\\beta) \\ [\\ \\beta* \\frac{\\partial C}{\\partial w}\\mid_{w=w_{0}} + \\frac{\\partial C}{\\partial w}\\mid_{w=w_{1}}\\ ] + (1-\\beta) * \\frac{\\partial C}{\\partial w}\\mid_{w=w_{2}}$$\n",
    "\n",
    "\n",
    "\n",
    "$$ m3 = (1 - \\beta) \\ [\\ \\beta^{2} * \\frac{\\partial C}{\\partial w}\\mid_{w=w_{0}} + \\beta \\frac{\\partial C}{\\partial w}\\mid_{w=w_{1}} + \\frac{\\partial C}{\\partial w}\\mid_{w=w_{2}}\\ ]$$\n",
    "\n",
    "\n",
    "$$ w_{3} = w_{2} - \\eta * m_{2}$$\n",
    "\n",
    "\n",
    "$$ w_{3} = w_{2} - \\eta * (1- \\beta)\\ [\\ \\beta^{2} * \\frac{\\partial C}{\\partial w}\\mid_{w=w_{0}} + \\beta \\frac{\\partial C}{\\partial w}\\mid_{w=w_{1}} + \\frac{\\partial C}{\\partial w}\\mid_{w=w_{2}}\\ ] \\ So \\ no \\ ...$$\n",
    "\n",
    "\n",
    "\n",
    "#### Advanatges:\n",
    "\n",
    "\n",
    "* Monentum hrlps in fast convergence\n",
    "\n",
    "\n",
    "* Oscillation can also help youn to come out of local minima\n",
    "\n",
    "\n",
    "\n",
    "#### Disadvantages:\n",
    "\n",
    "\n",
    "\n",
    "* On extra parameter $\\beta$ to tune although $ \\beta$ mored fine in ost of the case.\n",
    "\n",
    "\n",
    "\n",
    "* It oscillates when it reaches closer to local minima or gobal minima because  of accumlatiopn of past momentum\n",
    "\n",
    "\n",
    "\n",
    "### Nesterov Accelerated Gradient (NAG):\n",
    "\n",
    "\n",
    "\n",
    "\n",
    "* By yuri Nesterov in 1983\n",
    "\n",
    "\n",
    "* Nesterov Accelerated Gradient Momentum is faster than momentum optimization\n",
    "\n",
    "\n",
    "\n",
    "* It calculates the gradient slightly ahead in the direction momentum at (w- $ \\beta $m)\n",
    "\n",
    "\n",
    "generally formuala:\n",
    "\n",
    "$m_{2} = \\beta * m + \\eta * \\frac{\\partial C}{\\partial w}\\mid_{w=(w - \\beta* m)}$\n",
    "\n",
    "\n",
    "\n",
    "\n",
    "Derviation Expression:\n",
    "\n",
    "\n",
    "\n",
    "Initially w = $w_{0}$ , $m_{0}$ = 0 ,$\\beta$ = 0.9 \n",
    "\n",
    "\n",
    "\n",
    "* step1:\n",
    "\n",
    "\n",
    "$$m_{1} = \\beta * m_{0} + (1- \\beta) * \\frac{\\partial C}{\\partial w}\\mid_{w=(w_{0- \\beta * m_{0})}} \\rightarrow (1)$$\n",
    "\n",
    "\n",
    "$$ m_{1} = (1-\\beta) * \\frac{\\partial C}{\\partial w}\\mid_{w=w_{0}}$$\n",
    "\n",
    "$$w_{1} = w_{0} - \\eta * m_{1}$$\n",
    "\n",
    "$$w_{1} = w_{0} - \\eta * (1-\\beta) \\frac{\\partial C}{\\partial w}\\mid_{w=w_{0}}$$\n",
    "\n",
    "\n",
    "\n",
    "* step2:\n",
    "\n",
    "\n",
    "\n",
    "$w = w_{1} , m_{1} = (1 - \\beta)*  \\frac{\\partial C}{\\partial w}\\mid_{w=w_{0}} ,\\beta = 0.9$\n",
    "\n",
    "\n",
    "$$ m2 = \\beta* m_{1} + (1-\\beta) * \\frac{\\partial C}{\\partial w}\\mid_{w=(w_{1}-\\beta * m_{1})}$$\n",
    "\n",
    "\n",
    "$$ m2 = \\beta* (1-\\beta) \\frac{\\partial C}{\\partial w}\\mid_{w=w_{0}} + (1-\\beta) * \\frac{\\partial C}{\\partial w}\\mid_{(w_{1}-\\beta * m_{1})}$$\n",
    "\n",
    "\n",
    "$$ m2 = (1-\\beta) \\ [\\ \\beta * \\frac{\\partial C}{\\partial w}\\mid_{w=w_{0}} + \\frac{\\partial C}{\\partial w}\\mid_{(w_{1}-\\beta * m_{1})}\\]\\$$\n",
    "\n",
    "\n",
    "                                               past_gradient 90%    present_gradient 100%\n",
    "                                               \n",
    "                                               \n",
    "$$w_{2} = w_{1} - \\eta * m_{2}$$\n",
    "\n",
    "\n",
    "$$w_{2} = w_{1} - \\eta * (1-\\beta)\\ [\\ \\beta* \\frac{\\partial C}{\\partial w}\\mid_{w=w_{0}} + \\frac{\\partial C}{\\partial w}\\mid_{w=(w_{1}- \\beta * m_{1})}\\]\\$$\n",
    "\n",
    "\n",
    "\n",
    "* Step 3:\n",
    "\n",
    "\n",
    "\n",
    "$w = w_{2} , m_{2} = (1-\\beta) \\ [\\ \\beta * \\frac{\\partial C}{\\partial w}\\mid_{w=w_{0}} + \\frac{\\partial C}{\\partial w}\\mid_{(w=w_{1}-\\beta * m_{1})}\\ ] ,\\beta = 0.9$\n",
    "\n",
    "\n",
    "$$ m3 = \\beta* m_{2} + (1-\\beta) * \\frac{\\partial C}{\\partial w}\\mid_{w=(w_{2}- \\beta * m_{2})}$$\n",
    "\n",
    "\n",
    "$$ m3 = \\beta * (1-\\beta) \\ [\\ \\beta* \\frac{\\partial C}{\\partial w}\\mid_{w=w_{0}} + \\frac{\\partial C}{\\partial w}\\mid_{(w=w_{1} - \\beta * m_{1})}\\ ] + \\eta * \\frac{\\partial C}{\\partial w}\\mid_{(w=w_{2} - \\beta * m_{2})}$$\n",
    "\n",
    "\n",
    "\n",
    "$$ m3 = (1-\\beta) \\ [\\ \\beta^{2} * \\frac{\\partial C}{\\partial w}\\mid_{w=w_{0}} + \\beta \\frac{\\partial C}{\\partial w}\\mid_{(w=w_{1} - \\beta * m_{1})} + \\frac{\\partial C}{\\partial w}\\mid_{(w=w_{2} - \\beta * m_{2})}\\ ]$$\n",
    "\n",
    "\n",
    "$$ w_{3} = w_{2} - \\eta * m_{2}$$\n",
    "\n",
    "\n",
    "$$ w_{3} = w_{2} - \\eta * (1-\\beta)\\ [\\ \\beta^{2} * \\frac{\\partial C}{\\partial w}\\mid_{w=w_{0}} + \\beta \\frac{\\partial C}{\\partial w}\\mid_{(w=w_{1} - \\beta * m_{1})} + \\frac{\\partial C}{\\partial w}\\mid_{(w=w_{2} - \\beta * m_{2})}\\ ] \\ So \\ no \\ ...$$\n",
    "\n",
    "\n",
    "\n",
    "#### Advantages:\n",
    "\n",
    "\n",
    "* It faster than optimization techniques.\n",
    "\n",
    "\n",
    "* less oscillation and signficantly reduced\n",
    "\n",
    "\n",
    "* Reduce close to to local minima and global minima.\n",
    "\n",
    "\n",
    "\n",
    "#### Disadvantages:\n",
    "\n",
    "\n",
    "* Extra parameter to tune $ \\beta $, i.e, but $ \\beta $ is works fine\n",
    "\n",
    "\n",
    "* $ \\Delta C$ it does not care about direction issue\n",
    "\n",
    "\n",
    "\n",
    "### Adapative Gradient Descent Optimizers:\n",
    "\n",
    "\n",
    "* the Hyper-parameter that used in all algorithms, i.e., the learning rate (η). To refresh again, a hyper-parameter is a parameter that has to be chosen manually before training. The prefix ‘hyper-‘ is to differentiate hyper-parameter to the parameter that was changed automatically by the optimization algorithms during training. The learning rate reflects how much we allow the parameter (θ) to follow the opposite direction of the gradient estimate (g).\n",
    "\n",
    "\n",
    "\n",
    "* Unfortunately, this hyper-parameter could be very difficult to set because if we set it too small, then the parameter update will be very slow and it will take very long time to achieve an acceptable loss. Otherwise, if we set it too large, then the parameter will move all over the function and may never achieve acceptable loss at all. To make things worse, the high-dimensional non-convex nature of neural networks optimization could lead to different sensitivity on each dimension. The learning rate could be too small in some dimension and could be too large in another dimension.\n",
    "\n",
    "\n",
    "\n",
    "* One obvious way to mitigate that problem is to choose different learning rate for each dimension, but imagine if we have thousands or millions of dimensions, which is normal for deep neural networks, that would not be practical. So, in practice, one of the earlier algorithms that have been used to mitigate this problem for deep neural networks is the AdaGrad algorithm (Duchi et al., 2011). This algorithm adaptively scaled the learning rate for each dimension. Before we explore the algorithm and the how it works, let’s look at the equation for the parameter update that have been used in practice\n",
    "\n",
    "\n",
    "\n",
    "#### Derviation Expression:\n",
    "\n",
    "\n",
    "$$ s_{t} = s_{t-1} + (\\frac{\\partial C}{\\partial w}\\mid_{w=w_{t-1}})^2$$\n",
    "\n",
    "\n",
    "$$ w_{t} = w_{t-1} - \\eta * \\frac{\\frac{\\partial C}{\\partial w}}{\\sqrt{s_{t-1}+ \\epsilon }}$$\n",
    "\n",
    "s -> Scaling Factor\n",
    "\n",
    "$\\varepsilon = 10^{-7}$ =  -> smoothing term to avoid zero division error\n",
    "\n",
    "$\\frac{\\partial C}{\\partial w}\\mid_{w}$ --> Magnitude of vector\n",
    "\n",
    "$ \\frac{\\partial C}{\\partial w}$ --> Vector\n",
    "\n",
    "\n",
    "* Step1:\n",
    "\n",
    "$s_{0} = 0; w_{1}$ = $w_{1-1} \\ => \\ w_{1}$ = $w_{0}$, $\\epsilon$ = nearly to zero\n",
    "\n",
    "$$s_{1} = s_{0} + (\\frac{\\partial C}{\\partial w}\\mid_ w=w_{0})^2$$\n",
    "\n",
    "$$s_{1} = (\\frac{\\partial C}{\\partial w}\\mid w=w_{0})^2$$\n",
    "\n",
    "\n",
    "$$ w_{1} = w_{0} - \\eta * \\frac{\\frac{\\partial C}{\\partial w}\\mid_{w=w_{0}}}{\\sqrt{s_{1}+ \\epsilon}}$$\n",
    "\n",
    "\n",
    "$$ w_{1} = w_{0} - \\eta * \\frac{\\frac{\\partial C}{\\partial w}\\mid_{w=w_{0}}}{\\sqrt{(\\frac{\\partial C}{\\partial w}\\mid_ {w=w_{0}})^2+ \\epsilon}}$$\n",
    "\n",
    "\n",
    "$$ w_{1} = w_{0} - \\eta * \\frac{\\frac{\\partial C}{\\partial w}\\mid_{w=w_{0}}}{\\sqrt{(\\frac{\\partial C}{\\partial w}\\mid_ {w=w_{0}})^2}}$$\n",
    "\n",
    "\n",
    "$$w_{1} \\simeq  \\frac{{}\\underset{v}{\\rightarrow}}{\\begin{vmatrix}\n",
    "\\underset{v}{\\rightarrow}\n",
    "\\end{vmatrix}} \\rightarrow Unit \\ vector$$\n",
    "\n",
    "\n",
    "\n",
    "* Step 2:\n",
    "\n",
    "    $ s_{2} = s_{2-1} => s_{2} = s_{1} => s_{1} = (\\frac{\\partial C}{\\partial w}\\mid_{w=w_{0}})^2$\n",
    "    \n",
    "$$s_{2} = s_{1} + (\\frac{\\partial C}{\\partial w}\\mid_{w=w_{1}})^2$$\n",
    "\n",
    "\n",
    "$$s_{2} = (\\frac{\\partial C}{\\partial w}\\mid_{w=w_{0}})^2 + (\\frac{\\partial C}{\\partial w}\\mid_{w=w_{1}})^2$$\n",
    "\n",
    "$$ w_{2} = w_{1} - \\eta * \\frac{\\frac{\\partial C}{\\partial w}\\mid_{w=w_{1}}}{(\\sqrt{s_{2} + \\epsilon)}}$$\n",
    "\n",
    "\n",
    "$$ w_{2} = w_{1} - \\eta * \\frac{\\frac{\\partial C}{\\partial w}\\mid_{w=w_{1}}}{(\\sqrt{(\\frac{\\partial C}{\\partial w}\\mid_{w=w_{0}})^2 + (\\frac{\\partial C}{\\partial w}\\mid_{w=w_{1}})^2 + \\epsilon)}}$$\n",
    "\n",
    "\n",
    "$$ \\Delta w \\ \\alpha \\ \\frac{\\frac{\\partial C}{\\partial w}\\mid_{w=w_{j}}}{\\sqrt{ \\ \\sum_{j=0}^{N-1} \\ \\frac{\\partial C}{\\partial w}\\mid_{w=w_{j}}+ \\epsilon}} \\rightarrow  \\ in \\ n^{th}\n",
    "\\ step$$\n",
    "\n",
    "\n",
    "$$\\sum_{j=0}^{N-1} \\ \\frac{\\partial C}{\\partial w}\\mid_{w=w_{j} } \\rightarrow \\ l_{2} \\ norm$$ \n",
    "\n",
    "\n",
    "$$  w_{1} = w_{0} - \\frac{\\eta}{k} * \\frac{\\partial C}{\\partial w}\\mid_{w=w_{j}} \\rightarrow \\rightarrow \\eta \\ is \\ decaying $$\n",
    "\n",
    "\n",
    "$$ w = w- \\eta \\frac{\\partial C}{\\partial w}\\mid_{w=w_{i}} \\rightarrow \\rightarrow \\eta \\ is \\ constant$$\n",
    "\n",
    "\n",
    "\n",
    "Comparsion of GD and AdaGrad:\n",
    "\n",
    "\n",
    "|<center>Gradient Descent</center>||<center> Adapative Gradient</center>|\n",
    "|---||---|\n",
    "|<center>w = w $ \\eta \\frac{\\partial C}{\\partial w}$</center> ||<center> w = w $ \\frac{\\eta} {k}* \\frac{\\partial C}{\\partial w}$ </center>|\n",
    "|moves quickly in the direction of steepest descent without considering where global minima is located || It corrects its direction by scaling down the  gradient vector along the steepest direction|\n",
    "|<center>$\\Delta \\ \\alpha \\ \\frac{\\partial C}{\\partial w}$</center>||<center>$\\Delta \\ \\alpha \\ \\frac{\\frac{\\partial C}{\\partial w}}{k}$</center>| \n",
    "\n",
    "\n",
    "\n",
    "#### Advantages:\n",
    "\n",
    "\n",
    "* It corrects the direction initially unlike GD.\n",
    "\n",
    "\n",
    "* less training of learning rate.\n",
    "\n",
    "\n",
    "\n",
    "#### Disadvantages:\n",
    "\n",
    "\n",
    "* Stop early before reaching global minimum.\n",
    "\n",
    "\n",
    "* Take longer time & converge due to decaying learning rate. So not recommended to use\n",
    "\n",
    "\n",
    "\n",
    "### Root Mean Square Propagation Gradient:\n",
    "\n",
    "\n",
    "* It solves the problem of early stopping of adagrad by acummalted gradients from revent iteration by using exponential decay.\n",
    "\n",
    "\n",
    "\n",
    "\n",
    "#### Derviation With Expression:\n",
    "\n",
    "$$s_{t} = \\beta * s_{t-1} + (1-\\beta) * (\\frac{\\partial C}{\\partial w}\\mid_{w=w_{t-1}})^2$$\n",
    "\n",
    "\n",
    "$$w_{t} = w_{t-1} - \\eta * \\frac{\\frac{\\partial C}{\\partial w}\\mid_{w=w_{t-1}}}{\\sqrt{s_{t}+\\epsilon}}$$\n",
    "\n",
    "\n",
    "\n",
    "* step1:\n",
    "\n",
    "Initially $s_{0}$ = 0 , w=$w_{0}$ , $\\beta$ = 0.9, t = 1\n",
    "\n",
    "\n",
    "$$s_{1} = \\beta * s_{0} + (1-\\beta) * (\\frac{\\partial C}{\\partial w}\\mid_{w=w_{0}})^2$$\n",
    "\n",
    "\n",
    "\n",
    "$$s_{1} = (1-\\beta) * (\\frac{\\partial C}{\\partial w}\\mid_{w=w_{0}})^2$$\n",
    "\n",
    "\n",
    "$$w_{t} = w_{0} - \\eta * \\frac{\\frac{\\partial C}{\\partial w}\\mid_{w=w_{0}}}{\\sqrt{((1-\\beta) * (\\frac{\\partial C}{\\partial w}\\mid_{w=w_{0}})^2)+\\epsilon}}$$\n",
    "\n",
    "\n",
    "\n",
    "* Step 2:\n",
    "\n",
    "\n",
    "$s_{1} = (1-\\beta) * (\\frac{\\partial C}{\\partial w}\\mid_{w=w_{0}})^2$, $w=w_{1}$ ,$\\beta$ = 0.9, t = 2\n",
    "\n",
    "\n",
    "\n",
    "$$s_{2} =  \\beta * s_{1} + (1-\\beta) * (\\frac{\\partial C}{\\partial w}\\mid_{w=w_{1}})^2$$\n",
    "\n",
    "\n",
    "$$s_{2} = (1-\\beta) * (  \\beta * \\frac{\\partial C}{\\partial w}\\mid_{w=w_{0}})^2 + (1-\\beta) * (\\frac{\\partial C}{\\partial w}\\mid_{w=w_{1}})^2$$\n",
    "\n",
    "\n",
    "$$s_{2} = (1-\\beta) \\  [ \\beta (\\frac{\\partial C}{\\partial w}\\mid_{w=w_{0}})^2 + (\\frac{\\partial C}{\\partial w}\\mid_{w=w_{1}})^2] \\ $$\n",
    "\n",
    "\n",
    "$$w_{2} = w_{1} - \\eta * \\frac{\\frac{\\partial C}{\\partial w}\\mid_{w=w_{1}}}{\\sqrt{s_{2}+\\epsilon}}$$\n",
    "\n",
    "\n",
    "\n",
    "$$w_{2} = w_{1} - \\eta * \\frac{\\frac{\\partial C}{\\partial w}\\mid_{w=w_{1}}}{\\sqrt{((1-\\beta) \\  [\\beta *  \\frac{\\partial C}{\\partial w}\\mid_{w=w_{0}})^2 + (\\frac{\\partial C}{\\partial w}\\mid_{w=w_{1}})^2]+\\epsilon}}$$\n",
    "\n",
    "\n",
    "\n",
    "* Step 3:\n",
    "\n",
    "$s_{2} = (1-\\beta) [ \\beta (\\frac{\\partial C}{\\partial w}\\mid_{w=w_{0}})^2 + (\\frac{\\partial C}{\\partial w}\\mid_{w=w_{1}})^2]$ , w=$w_{2}$ ,$\\beta$ = 0.9, t = 3\n",
    "\n",
    "\n",
    "\n",
    "$$ s_{3} = \\beta * s_{2} + (1-\\beta)* \\frac{\\partial C}{\\partial w}\\mid_{w=w_{2}}$$\n",
    "\n",
    "\n",
    "$$ s_{3} = \\beta * (1-\\beta) [\\beta *  (\\frac{\\partial C}{\\partial w}\\mid_{w=w_{0}})^2 + (\\frac{\\partial C}{\\partial w}\\mid_{w=w_{1}})^2] + (1-\\beta)* \\frac{\\partial C}{\\partial w}\\mid_{w=w_{2}}$$\n",
    "\n",
    "\n",
    "\n",
    "\n",
    "$$ s_{3} = (1-\\beta) \\ [\\beta^2 * (\\frac{\\partial C}{\\partial w}\\mid_{w=w_{0}})^2  + \\beta * (\\frac{\\partial C}{\\partial w}\\mid_{w=w_{1}})^2 + \\frac{\\partial C}{\\partial w}\\mid_{w=w_{2}}]$$\n",
    "\n",
    "\n",
    "\n",
    "\n",
    "$$w_{3} = w_{2} - \\eta * \\frac{\\frac{\\partial C}{\\partial w}\\mid_{w=w_{1}}}{\\sqrt{s_{3}+\\epsilon}}$$\n",
    "\n",
    "\n",
    "\n",
    "\n",
    "$$w_{3} = w_{2} - \\eta * \\frac{\\frac{\\partial C}{\\partial w}\\mid_{w=w_{1}}}{\\sqrt{(1-\\beta) \\ [\\beta^2 * (\\frac{\\partial C}{\\partial w}\\mid_{w=w_{0}})^2  + \\beta * (\\frac{\\partial C}{\\partial w}\\mid_{w=w_{1}})^2 + \\frac{\\partial C}{\\partial w}\\mid_{w=w_{2}}]+\\epsilon}}$$\n",
    "\n",
    "\n",
    "\n",
    "\n",
    "### Adaptive Moment Estimation Optimizer:\n",
    "\n",
    "\n",
    "\n",
    "\n",
    "\n",
    "\n",
    "#### Derviation With Expression:\n",
    "\n",
    "\n",
    "\n",
    "$$m_{t} = \\beta_{1} * m_{t-1} + (1-\\beta_{1}) * \\frac{\\partial C}{\\partial w}\\mid_{w=w_{t-1}}$$\n",
    "\n",
    "\n",
    "\n",
    "$$s_{t} = \\beta_{2} * s_{t-1} + (1-\\beta_{2}) * (\\frac{\\partial C}{\\partial w}\\mid_{w=w_{t-1}})^2$$\n",
    "\n",
    "\n",
    "$$\\hat{m_{t}} = \\frac{m_{t}}{1-\\beta_{1}^{t}}$$\n",
    "\n",
    "\n",
    "\n",
    "$$\\hat{s_{t}} = \\frac{s_{t}}{1-\\beta_{2}^{t}}$$\n",
    "\n",
    "\n",
    "\n",
    "$$w_{t} = w_{t-1} - \\eta * \\frac{\\hat{m_{t}}}{\\sqrt{\\hat{s_{t}}+ \\epsilon}}$$\n",
    "\n",
    "\n",
    "where \n",
    "\n",
    "\n",
    "$m_{t}$ = Momentum optimization (exponential deacy of gradients) at time t\n",
    "\n",
    "\n",
    "$s_{t}$ = RMSProp oprimization (exponentail Decay of squared gradients) at time t\n",
    "\n",
    "\n",
    "$\\hat{m} \\ ,\\ \\hat{s}$ = Bias Coorection Step (Inspired from  Time Series Smoothing opeartion)  at a time t\n",
    "\n",
    "\n",
    "\n",
    "\n",
    "\n",
    "\n",
    "* Step 1:\n",
    "\n",
    "\n",
    "\n",
    "\n",
    "$\\beta_{1}$ = 0.9, $\\beta_{2}$ = 0.999, $s_{0}$ = 0, $m_{0}$ = 0, t = 1, $t_{0} = 0, $t_{1}$ = $t_{0}$ - 1 = 1, w=$w_{0}$\n",
    "\n",
    "\n",
    "\n",
    "\n",
    "$$ m_{1} = \\beta_{1} * m_{0} + (1-\\beta_{1}) (\\frac{\\partial C}{\\partial w}\\mid_{w=w_{0}})$$\n",
    "\n",
    "\n",
    "\n",
    "$$ m_{1} = (1-\\beta_{1}) (\\frac{\\partial C}{\\partial w}\\mid_{w=w_{0}})$$\n",
    "\n",
    "\n",
    "$$\\hat{m_{1}} = \\frac{m_{1}}{1-\\beta_{1}^{1}}$$\n",
    "\n",
    "\n",
    "\n",
    "$$\\hat{m_{1}} = \\frac{(1-\\beta_{1}) (\\frac{\\partial C}{\\partial w}\\mid_{w=w_{0}})}{1-\\beta_{1}^{1}}$$\n",
    "\n",
    "\n",
    "\n",
    "$$\\hat{m_{1}} = \\frac{\\partial C}{\\partial w}\\mid_{w=w_{0}}$$\n",
    "\n",
    "\n",
    "\n",
    "$$s_{1} = \\beta_{2} * s_{0} + (1-\\beta_{2}) (\\frac{\\partial C}{\\partial w}\\mid_{w=w_{0}})^2$$\n",
    "\n",
    "\n",
    "$$s_{1} = (1-\\beta_{2}) (\\frac{\\partial C}{\\partial w}\\mid_{w=w_{0}})^2$$\n",
    "\n",
    "\n",
    "$$ \\hat{s_{1}} = \\frac{s_{1}}{1-\\beta_{2}^{1}}$$\n",
    "\n",
    "\n",
    "\n",
    "$$\\hat{s_{1}} = \\frac{(1-\\beta_{2}) (\\frac{\\partial C}{\\partial w}\\mid_{w=w_{0}})^2}{1-\\beta_{2}^{1}}$$\n",
    "\n",
    "\n",
    "\n",
    "$$\\hat{s_{1}} = (\\frac{\\partial C}{\\partial w}\\mid_{w=w_{0}})^2$$\n",
    "\n",
    "\n",
    "\n",
    "$$w_{1} = w_{0} - \\eta * \\frac{\\hat{m_{1}}}{\\sqrt{\\hat{s_{1}}+\\epsilon}}$$\n",
    "\n",
    "\n",
    "\n",
    "$$w_{1} = w_{0} - \\eta * \\frac{\\frac{\\partial C}{\\partial w}\\mid_{w=w_{0}}}{\\sqrt{ (\\frac{\\partial C}{\\partial w}\\mid_{w=w_{0}})^2 + \\epsilon}}$$\n",
    "\n",
    "\n",
    "\n",
    "* Step2:\n",
    "\n",
    "\n",
    "$\\beta_{1}$ = 0.9, $\\beta_{2}$ = 0.999, $s_{1}$ = $(1-\\beta_{2}) (\\frac{\\partial C}{\\partial w}\\mid_{w=w_{0}})^2$, $m_{1}$ = $(1-\\beta_{1}) (\\frac{\\partial C}{\\partial w}\\mid_{w=w_{0}})$, t = 2, w=$w_{1}$\n",
    "\n",
    "\n",
    "$$ m_{2} = \\beta_{1} * m_{1} + (1-\\beta_{1}) (\\frac{\\partial C}{\\partial w}\\mid_{w=w_{1}})$$\n",
    "\n",
    "\n",
    "$$ m_{2} = \\beta_{1} * (1-\\beta_{1}) (\\frac{\\partial C}{\\partial w}\\mid_{w=w_{0}}) + (1-\\beta_{1}) (\\frac{\\partial C}{\\partial w}\\mid_{w=w_{1}})$$\n",
    "\n",
    "\n",
    "$$ m_{2} =  (1-\\beta_{1})\\ [ \\ \\beta_{1}* (\\frac{\\partial C}{\\partial w}\\mid_{w=w_{0}}) + (\\frac{\\partial C}{\\partial w}\\mid_{w=w_{1}})]$$\n",
    "\n",
    "$$\\hat{m_{2}} = \\frac{m_{2}}{1-\\beta_{2}^{1}}$$\n",
    "\n",
    "\n",
    "$$\\hat{m_{2}} = \\frac{(1-\\beta_{1})\\ [ \\ \\beta_{1}* (\\frac{\\partial C}{\\partial w}\\mid_{w=w_{0}}) + (\\frac{\\partial C}{\\partial w}\\mid_{w=w_{1}})]}{1-\\beta_{2}^{1}}$$\n",
    "\n",
    "\n",
    "$$\\hat{m_{2}} = \\frac{(1-\\beta_{1})\\ [ \\ \\beta_{1}* (\\frac{\\partial C}{\\partial w}\\mid_{w=w_{0}}) + (\\frac{\\partial C}{\\partial w}\\mid_{w=w_{1}})]}{(1+\\beta_{1})(1-\\beta_{1})}$$\n",
    "\n",
    "\n",
    "$$\\hat{m_{2}} = \\frac{\\beta_{1}* \\frac{\\partial C}{\\partial w}\\mid_{w=w_{0}} + \\frac{\\partial C}{\\partial w}\\mid_{w=w_{1}}}{1+\\beta_{1}}$$\n",
    "\n",
    "\n",
    "\n",
    "$$ s_{2} = \\beta_{1} * s_{1} + (1-\\beta_{1}) (\\frac{\\partial C}{\\partial w}\\mid_{w=w_{1}})$$\n",
    "\n",
    "\n",
    "$$s_{2} = \\beta_{2} * (1-\\beta_{2}) (\\frac{\\partial C}{\\partial w}\\mid_{w=w_{0}})^2 + (1-\\beta_{2}) (\\frac{\\partial C}{\\partial w}\\mid_{w=w_{1}})^2$$\n",
    "\n",
    "\n",
    "$$s_{2} = (1-\\beta_{2}) [\\ \\beta_{2}* (\\frac{\\partial C}{\\partial w}\\mid_{w=w_{0}})^2 + (\\frac{\\partial C}{\\partial w}\\mid_{w=w_{1}})^2]$$\n",
    "\n",
    "\n",
    "$$ \\hat{s_{2}} = \\frac{(1-\\beta_{2}) [\\ \\beta_{2}* (\\frac{\\partial C}{\\partial w}\\mid_{w=w_{0}})^2 + (\\frac{\\partial C}{\\partial w}\\mid_{w=w_{1}})^2]}{1-\\beta_{2}^{2}}$$\n",
    "\n",
    "\n",
    "\n",
    "$$ \\hat{s_{2}} = \\frac{(1-\\beta_{2}) [\\beta_{2}* (\\frac{\\partial C}{\\partial w}\\mid_{w=w_{0}})^2 + (\\frac{\\partial C}{\\partial w}\\mid_{w=w_{1}})^2]}{(1+\\beta_{2})(1-\\beta_{2})}$$\n",
    "\n",
    "\n",
    "$$ \\hat{s_{2}} = \\frac{\\beta_{2}* (\\frac{\\partial C}{\\partial w}\\mid_{w=w_{0}})^2 + (\\frac{\\partial C}{\\partial w}\\mid_{w=w_{1}})^2}{1+ \\beta_{2}}$$\n",
    "\n",
    "\n",
    "$$w_{2} = w_{1} - \\eta * \\frac{\\hat{m_{2}}}{\\sqrt{\\hat{s_{2}}+\\epsilon}}$$\n",
    "\n",
    "\n",
    "$$w_{2} = w_{1} - \\eta * \\frac{\\frac{\\beta_{1}* \\frac{\\partial C}{\\partial w}\\mid_{w=w_{0}} + \\frac{\\partial C}{\\partial w}\\mid_{w=w_{1}}}{1+\\beta_{1}}}{\\sqrt{\\frac{\\beta_{2}* (\\frac{\\partial C}{\\partial w}\\mid_{w=w_{0}})^2 + (\\frac{\\partial C}{\\partial w}\\mid_{w=w_{1}})^2}{1+ \\beta_{2}}+\\epsilon}}$$\n",
    "\n",
    "\n",
    "\n",
    "* Step3:\n",
    "\n",
    "$\\beta_{1}$ = 0.9, $\\beta_{2}$ = 0.999, \n",
    "\n",
    "\n",
    "$s_{2}$ = $(1-\\beta_{2}) [\\ \\beta_{2}* (\\frac{\\partial C}{\\partial w}\\mid_{w=w_{0}})^2 + (\\frac{\\partial C}{\\partial w}\\mid_{w=w_{1}})^2]$,\n",
    "\n",
    "\n",
    "$m_{2}$ = $(1-\\beta_{1})\\ [ \\ \\beta_{1}* \\frac{\\partial C}{\\partial w}\\mid_{w=w_{0}} + \\frac{\\partial C}{\\partial w}\\mid_{w=w_{1}}]$, \n",
    "\n",
    "\n",
    "t = 3, w=$w_{2}$\n",
    "\n",
    "\n",
    "$$m_{3} = \\beta_{1} * m_{2} + (1-\\beta_{1}) * \\frac{\\partial C}{\\partial w}\\mid_{w=w_{2}}$$\n",
    "\n",
    "\n",
    "\n",
    "$$m_{3} = \\beta_{1} * (1-\\beta_{1})\\ [ \\ \\beta_{1}* \\frac{\\partial C}{\\partial w}\\mid_{w=w_{0}} + \\frac{\\partial C}{\\partial w}\\mid_{w=w_{1}}] + (1-\\beta_{1}) * \\frac{\\partial C}{\\partial w}\\mid_{w=w_{2}}$$\n",
    "\n",
    "\n",
    "$$m_{3} = (1-\\beta_{1}) [ \\ \\beta_{1}^2 * \\frac{\\partial C}{\\partial w}\\mid_{w=w_{0}} + \\beta_{1} * \\frac{\\partial C}{\\partial w}\\mid_{w=w_{1}} + \\frac{\\partial C}{\\partial w}\\mid_{w=w_{2}}]$$\n",
    "\n",
    "\n",
    "$$\\hat{m_{3}} = \\frac{m_{3}}{1-\\beta_{1}^{3}}$$\n",
    "\n",
    "\n",
    "\n",
    "$$\\hat{m_{3}} = \\frac{(1-\\beta_{1}) [ \\ \\beta_{1}^2 * \\frac{\\partial C}{\\partial w}\\mid_{w=w_{0}} + \\beta_{1} * \\frac{\\partial C}{\\partial w}\\mid_{w=w_{1}} + \\frac{\\partial C}{\\partial w}\\mid_{w=w_{2}}]}{1-\\beta_{1}^{3}}$$\n",
    "\n",
    "\n",
    "$$\\hat{m_{3}} = \\frac{(1-\\beta_{1}) [ \\ \\beta_{1}^2 * \\frac{\\partial C}{\\partial w}\\mid_{w=w_{0}} + \\beta_{1} * \\frac{\\partial C}{\\partial w}\\mid_{w=w_{1}} + \\frac{\\partial C}{\\partial w}\\mid_{w=w_{2}}]}{(1-\\beta_{1})(1^2+1*\\beta_{1}+\\beta_{1}^2)}$$\n",
    "\n",
    "\n",
    "\n",
    "$$\\hat{m_{3}} = \\frac{\\beta_{1}^2 * \\frac{\\partial C}{\\partial w}\\mid_{w=w_{0}} + \\beta_{1} * \\frac{\\partial C}{\\partial w}\\mid_{w=w_{1}} + \\frac{\\partial C}{\\partial w}\\mid_{w=w_{2}}}{1+\\beta_{1}+\\beta_{1}^2}$$\n",
    "\n",
    "\n",
    "$$s_{3} = \\beta_{2} * s_{2} + (1-\\beta_{2}) * (\\frac{\\partial C}{\\partial w}\\mid_{w=w_{2}})^2$$\n",
    "\n",
    "\n",
    "\n",
    "$$s_{3} = \\beta_{2} (1-\\beta_{2}) [\\ \\beta_{2}* (\\frac{\\partial C}{\\partial w}\\mid_{w=w_{0}})^2 + (\\frac{\\partial C}{\\partial w}\\mid_{w=w_{1}})^2] + (1-\\beta_{2}) * (\\frac{\\partial C}{\\partial w}\\mid_{w=w_{2}})^2$$\n",
    "\n",
    "\n",
    "\n",
    "$$s_{3} = (1-\\beta_{2}) [\\ \\beta_{2}^2* (\\frac{\\partial C}{\\partial w}\\mid_{w=w_{0}})^2 + \\beta_{2}* (\\frac{\\partial C}{\\partial w}\\mid_{w=w_{1}})^2 + (\\frac{\\partial C}{\\partial w}\\mid_{w=w_{2}})^2]$$\n",
    "\n",
    "\n",
    "\n",
    "$$\\hat{s_{3}} = \\frac{s_{3}}{1-\\beta_{2}^{3}}$$\n",
    "\n",
    "\n",
    "$$\\hat{s_{3}} = \\frac{(1-\\beta_{2}) [\\ \\beta_{2}^2* (\\frac{\\partial C}{\\partial w}\\mid_{w=w_{0}})^2 + \\beta_{2}* (\\frac{\\partial C}{\\partial w}\\mid_{w=w_{1}})^2 + (\\frac{\\partial C}{\\partial w}\\mid_{w=w_{2}})^2]}{1-\\beta_{2}^{3}}$$\n",
    "\n",
    "\n",
    "$$\\hat{s_{3}} = \\frac{(1-\\beta_{2}) [\\ \\beta_{2}^2* (\\frac{\\partial C}{\\partial w}\\mid_{w=w_{0}})^2 + \\beta_{2}* (\\frac{\\partial C}{\\partial w}\\mid_{w=w_{1}})^2 + (\\frac{\\partial C}{\\partial w}\\mid_{w=w_{2}})^2]}{(1-\\beta_{2})(1+\\beta_{2}+\\beta_{2}^2)}$$\n",
    "\n",
    "\n",
    "\n",
    "$$\\hat{s_{3}} = \\frac{\\beta_{2}^2* (\\frac{\\partial C}{\\partial w}\\mid_{w=w_{0}})^2 + \\beta_{2}* (\\frac{\\partial C}{\\partial w}\\mid_{w=w_{1}})^2 + (\\frac{\\partial C}{\\partial w}\\mid_{w=w_{2}})^2}{1+\\beta_{2}+\\beta_{2}^2}$$\n",
    "\n",
    "\n",
    "\n",
    "$$w_{t} = w_{t-1} - \\eta * \\frac{\\hat{m_{t}}}{\\sqrt{\\hat{s_{t}}+ \\epsilon}}$$\n",
    "\n",
    "\n",
    "\n",
    "$$w_{3} = w_{2} - \\eta * \\frac{\\hat{m_{3}}}{\\sqrt{\\hat{s_{3}}+ \\epsilon}}$$\n",
    "\n",
    "\n",
    "\n",
    "$$w_{3} = w_{2} - \\eta * \\frac{\\frac{(1-\\beta_{2}) [\\ \\beta_{2}^2* (\\frac{\\partial C}{\\partial w}\\mid_{w=w_{0}})^2 + \\beta_{2}* (\\frac{\\partial C}{\\partial w}\\mid_{w=w_{1}})^2 + (\\frac{\\partial C}{\\partial w}\\mid_{w=w_{2}})^2]}{(1-\\beta_{2})(1+\\beta_{2}+\\beta_{2}^2)}}{\\sqrt{\\frac{\\beta_{2}^2* (\\frac{\\partial C}{\\partial w}\\mid_{w=w_{0}})^2 + \\beta_{2}* (\\frac{\\partial C}{\\partial w}\\mid_{w=w_{1}})^2 + (\\frac{\\partial C}{\\partial w}\\mid_{w=w_{2}})^2}{1+\\beta_{2}+\\beta_{2}^2}+ \\epsilon}} \\ \\ So \\ on \\ ...$$"
   ]
  },
  {
   "cell_type": "markdown",
   "metadata": {},
   "source": [
    "## Python Implementations: "
   ]
  },
  {
   "cell_type": "code",
   "execution_count": 4,
   "metadata": {},
   "outputs": [],
   "source": [
    "import tensorflow as tf\n",
    "import pandas as pd\n",
    "import numpy as np\n",
    "import matplotlib.pyplot as plt\n",
    "import seaborn as sns\n",
    "from IPython.display import Image\n",
    "from IPython.core.display import HTML \n",
    "plt.style.use('fivethirtyeight')"
   ]
  },
  {
   "cell_type": "code",
   "execution_count": 68,
   "metadata": {},
   "outputs": [],
   "source": [
    "(x_train_full,y_train_full),(x_test_full,y_test_full) = tf.keras.datasets.mnist.load_data()"
   ]
  },
  {
   "cell_type": "code",
   "execution_count": 69,
   "metadata": {},
   "outputs": [],
   "source": [
    "x_train_val,x_train = x_train_full[0:4000]/255,x_train_full[4000:]/255\n",
    "y_train_val,y_train = y_train_full[0:4000],y_train_full[4000:]\n",
    "x_test_full = x_test_full/255"
   ]
  },
  {
   "cell_type": "code",
   "execution_count": 71,
   "metadata": {},
   "outputs": [],
   "source": [
    "model = tf.keras.models.Sequential()\n",
    "model.add(tf.keras.layers.Flatten(input_shape=(28,28)))\n",
    "# model.add(tf.keras.layers.BatchNormalization())\n",
    "model.add(tf.keras.layers.Dense(300,activation=\"elu\",kernel_initializer=\"he_normal\"))\n",
    "# model.add(tf.keras.layers.BatchNormalization())\n",
    "model.add(tf.keras.layers.Dense(200,activation=\"elu\",kernel_initializer=\"he_normal\"))\n",
    "# model.add(tf.keras.layers.LeakyReLU())\n",
    "# model.add(tf.keras.layers.BatchNormalization())\n",
    "model.add(tf.keras.layers.Dense(10,activation=\"softmax\"))"
   ]
  },
  {
   "cell_type": "markdown",
   "metadata": {},
   "source": [
    "# Gradient Descent Optimizer Experiment:"
   ]
  },
  {
   "cell_type": "code",
   "execution_count": 72,
   "metadata": {},
   "outputs": [
    {
     "name": "stdout",
     "output_type": "stream",
     "text": [
      "Epoch 1/30\n",
      "1750/1750 [==============================] - 20s 11ms/step - loss: 0.4884 - accuracy: 0.8642 - val_loss: 0.3089 - val_accuracy: 0.9150\n",
      "Epoch 2/30\n",
      "1750/1750 [==============================] - 19s 11ms/step - loss: 0.3007 - accuracy: 0.9146 - val_loss: 0.2662 - val_accuracy: 0.9268\n",
      "Epoch 3/30\n",
      "1750/1750 [==============================] - 18s 10ms/step - loss: 0.2628 - accuracy: 0.9245 - val_loss: 0.2366 - val_accuracy: 0.9325\n",
      "Epoch 4/30\n",
      "1750/1750 [==============================] - 18s 10ms/step - loss: 0.2349 - accuracy: 0.9327 - val_loss: 0.2127 - val_accuracy: 0.9415\n",
      "Epoch 5/30\n",
      "1750/1750 [==============================] - 18s 10ms/step - loss: 0.2100 - accuracy: 0.9410 - val_loss: 0.1951 - val_accuracy: 0.9463\n",
      "Epoch 6/30\n",
      "1750/1750 [==============================] - 18s 10ms/step - loss: 0.1890 - accuracy: 0.9470 - val_loss: 0.1772 - val_accuracy: 0.9507\n",
      "Epoch 7/30\n",
      "1750/1750 [==============================] - 18s 10ms/step - loss: 0.1714 - accuracy: 0.9516 - val_loss: 0.1616 - val_accuracy: 0.9540\n",
      "Epoch 8/30\n",
      "1750/1750 [==============================] - 18s 10ms/step - loss: 0.1565 - accuracy: 0.9563 - val_loss: 0.1519 - val_accuracy: 0.9565\n",
      "Epoch 9/30\n",
      "1750/1750 [==============================] - 18s 10ms/step - loss: 0.1445 - accuracy: 0.9583 - val_loss: 0.1422 - val_accuracy: 0.9600\n",
      "Epoch 10/30\n",
      "1750/1750 [==============================] - 19s 11ms/step - loss: 0.1341 - accuracy: 0.9620 - val_loss: 0.1338 - val_accuracy: 0.9613\n",
      "Epoch 11/30\n",
      "1750/1750 [==============================] - 18s 10ms/step - loss: 0.1252 - accuracy: 0.9639 - val_loss: 0.1259 - val_accuracy: 0.9630\n",
      "Epoch 12/30\n",
      "1750/1750 [==============================] - 18s 11ms/step - loss: 0.1173 - accuracy: 0.9666 - val_loss: 0.1241 - val_accuracy: 0.9645\n",
      "Epoch 13/30\n",
      "1750/1750 [==============================] - 18s 11ms/step - loss: 0.1098 - accuracy: 0.9686 - val_loss: 0.1183 - val_accuracy: 0.9668\n",
      "Epoch 14/30\n",
      "1750/1750 [==============================] - 18s 11ms/step - loss: 0.1038 - accuracy: 0.9701 - val_loss: 0.1138 - val_accuracy: 0.9690\n",
      "Epoch 15/30\n",
      "1750/1750 [==============================] - 19s 11ms/step - loss: 0.0980 - accuracy: 0.9722 - val_loss: 0.1103 - val_accuracy: 0.9688\n",
      "Epoch 16/30\n",
      "1750/1750 [==============================] - 18s 10ms/step - loss: 0.0928 - accuracy: 0.9735 - val_loss: 0.1079 - val_accuracy: 0.9695\n",
      "Epoch 17/30\n",
      "1750/1750 [==============================] - 19s 11ms/step - loss: 0.0881 - accuracy: 0.9751 - val_loss: 0.1041 - val_accuracy: 0.9700\n",
      "Epoch 18/30\n",
      "1750/1750 [==============================] - 20s 11ms/step - loss: 0.0837 - accuracy: 0.9758 - val_loss: 0.0986 - val_accuracy: 0.9715\n",
      "Epoch 19/30\n",
      "1750/1750 [==============================] - 25s 15ms/step - loss: 0.0798 - accuracy: 0.9771 - val_loss: 0.0974 - val_accuracy: 0.9720\n",
      "Epoch 20/30\n",
      "1750/1750 [==============================] - 30s 17ms/step - loss: 0.0761 - accuracy: 0.9782 - val_loss: 0.0977 - val_accuracy: 0.9703\n",
      "Epoch 21/30\n",
      "1750/1750 [==============================] - 39s 22ms/step - loss: 0.0726 - accuracy: 0.9796 - val_loss: 0.0945 - val_accuracy: 0.9728\n",
      "Epoch 22/30\n",
      "1750/1750 [==============================] - 93s 53ms/step - loss: 0.0693 - accuracy: 0.9804 - val_loss: 0.0925 - val_accuracy: 0.9718\n",
      "Epoch 23/30\n",
      "1750/1750 [==============================] - 560s 320ms/step - loss: 0.0666 - accuracy: 0.9809 - val_loss: 0.0890 - val_accuracy: 0.9750\n",
      "Epoch 24/30\n",
      "1750/1750 [==============================] - 603s 345ms/step - loss: 0.0634 - accuracy: 0.9819 - val_loss: 0.0908 - val_accuracy: 0.9747\n",
      "Epoch 25/30\n",
      "1750/1750 [==============================] - 107s 61ms/step - loss: 0.0535 - accuracy: 0.9846 - val_loss: 0.0874 - val_accuracy: 0.9760\n",
      "Epoch 29/30\n",
      "1750/1750 [==============================] - 40s 23ms/step - loss: 0.0518 - accuracy: 0.9858 - val_loss: 0.0858 - val_accuracy: 0.9747\n",
      "Epoch 30/30\n",
      "1750/1750 [==============================] - 30s 17ms/step - loss: 0.0497 - accuracy: 0.9865 - val_loss: 0.0842 - val_accuracy: 0.9770\n"
     ]
    }
   ],
   "source": [
    "model.compile(optimizer=tf.keras.optimizers.SGD(learning_rate=0.01, momentum=0.00, nesterov=False, name=\"SGD\"),loss=\"SparseCategoricalCrossentropy\",metrics='accuracy')\n",
    "history_sgd = model.fit(x_train,y_train,epochs=30,validation_data=(x_train_val,y_train_val),\n",
    "                       callbacks=tf.keras.callbacks.TensorBoard(\"SGD_logs/\",write_images=True, update_freq='batch'))"
   ]
  },
  {
   "cell_type": "code",
   "execution_count": 10,
   "metadata": {},
   "outputs": [
    {
     "data": {
      "text/html": [
       "\n",
       "      <iframe id=\"tensorboard-frame-1217eeac01e2effb\" width=\"100%\" height=\"800\" frameborder=\"0\">\n",
       "      </iframe>\n",
       "      <script>\n",
       "        (function() {\n",
       "          const frame = document.getElementById(\"tensorboard-frame-1217eeac01e2effb\");\n",
       "          const url = new URL(\"/\", window.location);\n",
       "          const port = 6006;\n",
       "          if (port) {\n",
       "            url.port = port;\n",
       "          }\n",
       "          frame.src = url;\n",
       "        })();\n",
       "      </script>\n",
       "    "
      ],
      "text/plain": [
       "<IPython.core.display.HTML object>"
      ]
     },
     "metadata": {},
     "output_type": "display_data"
    }
   ],
   "source": [
    "%load_ext tensorboard\n",
    "%tensorboard --logdir SGD_logs/"
   ]
  },
  {
   "cell_type": "code",
   "execution_count": 13,
   "metadata": {},
   "outputs": [
    {
     "data": {
      "text/html": [
       "<img src=\"https://i.imgur.com/dAh3A6x.png\"/>"
      ],
      "text/plain": [
       "<IPython.core.display.Image object>"
      ]
     },
     "execution_count": 13,
     "metadata": {},
     "output_type": "execute_result"
    }
   ],
   "source": [
    "Image(url= \"https://i.imgur.com/dAh3A6x.png\")"
   ]
  },
  {
   "cell_type": "code",
   "execution_count": 14,
   "metadata": {},
   "outputs": [
    {
     "data": {
      "text/html": [
       "<img src=\"https://i.imgur.com/0qLL22S.png\"/>"
      ],
      "text/plain": [
       "<IPython.core.display.Image object>"
      ]
     },
     "execution_count": 14,
     "metadata": {},
     "output_type": "execute_result"
    }
   ],
   "source": [
    "Image(url= \"https://i.imgur.com/0qLL22S.png\")"
   ]
  },
  {
   "cell_type": "code",
   "execution_count": 15,
   "metadata": {},
   "outputs": [
    {
     "data": {
      "text/html": [
       "<img src=\"https://i.imgur.com/3ogZKyr.png\"/>"
      ],
      "text/plain": [
       "<IPython.core.display.Image object>"
      ]
     },
     "execution_count": 15,
     "metadata": {},
     "output_type": "execute_result"
    }
   ],
   "source": [
    "Image(url= \"https://i.imgur.com/3ogZKyr.png\")"
   ]
  },
  {
   "cell_type": "code",
   "execution_count": 16,
   "metadata": {},
   "outputs": [
    {
     "data": {
      "text/html": [
       "<img src=\"https://i.imgur.com/CIqxrUW.png\"/>"
      ],
      "text/plain": [
       "<IPython.core.display.Image object>"
      ]
     },
     "execution_count": 16,
     "metadata": {},
     "output_type": "execute_result"
    }
   ],
   "source": [
    "Image(url=\"https://i.imgur.com/CIqxrUW.png\")"
   ]
  },
  {
   "cell_type": "markdown",
   "metadata": {},
   "source": [
    "# SGD With Momentum Experiment:"
   ]
  },
  {
   "cell_type": "code",
   "execution_count": 65,
   "metadata": {},
   "outputs": [
    {
     "name": "stdout",
     "output_type": "stream",
     "text": [
      "Epoch 1/30\n",
      "1750/1750 [==============================] - 20s 11ms/step - loss: 0.2797 - accuracy: 0.9159 - val_loss: 0.1548 - val_accuracy: 0.9578\n",
      "Epoch 2/30\n",
      "1750/1750 [==============================] - 19s 11ms/step - loss: 0.1324 - accuracy: 0.9589 - val_loss: 0.1081 - val_accuracy: 0.9690\n",
      "Epoch 3/30\n",
      "1750/1750 [==============================] - 19s 11ms/step - loss: 0.0921 - accuracy: 0.9721 - val_loss: 0.0911 - val_accuracy: 0.9725\n",
      "Epoch 4/30\n",
      "1750/1750 [==============================] - 19s 11ms/step - loss: 0.0717 - accuracy: 0.9781 - val_loss: 0.0889 - val_accuracy: 0.9750\n",
      "Epoch 5/30\n",
      "1750/1750 [==============================] - 19s 11ms/step - loss: 0.0571 - accuracy: 0.9823 - val_loss: 0.0793 - val_accuracy: 0.9768\n",
      "Epoch 6/30\n",
      "1750/1750 [==============================] - 19s 11ms/step - loss: 0.0459 - accuracy: 0.9856 - val_loss: 0.0725 - val_accuracy: 0.9803\n",
      "Epoch 7/30\n",
      "1750/1750 [==============================] - 19s 11ms/step - loss: 0.0385 - accuracy: 0.9880 - val_loss: 0.0783 - val_accuracy: 0.9770\n",
      "Epoch 8/30\n",
      "1750/1750 [==============================] - 19s 11ms/step - loss: 0.0320 - accuracy: 0.9897 - val_loss: 0.0731 - val_accuracy: 0.9810\n",
      "Epoch 9/30\n",
      "1750/1750 [==============================] - 19s 11ms/step - loss: 0.0255 - accuracy: 0.9918 - val_loss: 0.0788 - val_accuracy: 0.9790\n",
      "Epoch 10/30\n",
      "1750/1750 [==============================] - 19s 11ms/step - loss: 0.0208 - accuracy: 0.9936 - val_loss: 0.0705 - val_accuracy: 0.9812\n",
      "Epoch 11/30\n",
      "1750/1750 [==============================] - 19s 11ms/step - loss: 0.0165 - accuracy: 0.9950 - val_loss: 0.0758 - val_accuracy: 0.9818\n",
      "Epoch 12/30\n",
      "1750/1750 [==============================] - 19s 11ms/step - loss: 0.0137 - accuracy: 0.9963 - val_loss: 0.0763 - val_accuracy: 0.9822\n",
      "Epoch 13/30\n",
      "1750/1750 [==============================] - 20s 11ms/step - loss: 0.0115 - accuracy: 0.9969 - val_loss: 0.0760 - val_accuracy: 0.9815\n",
      "Epoch 14/30\n",
      "1750/1750 [==============================] - 19s 11ms/step - loss: 0.0093 - accuracy: 0.9976 - val_loss: 0.0739 - val_accuracy: 0.9810\n",
      "Epoch 15/30\n",
      "1750/1750 [==============================] - 20s 11ms/step - loss: 0.0068 - accuracy: 0.9986 - val_loss: 0.0786 - val_accuracy: 0.9835\n",
      "Epoch 16/30\n",
      "1750/1750 [==============================] - 20s 11ms/step - loss: 0.0057 - accuracy: 0.9988 - val_loss: 0.0754 - val_accuracy: 0.9818\n",
      "Epoch 17/30\n",
      "1750/1750 [==============================] - 20s 11ms/step - loss: 0.0042 - accuracy: 0.9993 - val_loss: 0.0718 - val_accuracy: 0.9827\n",
      "Epoch 18/30\n",
      "1750/1750 [==============================] - 20s 11ms/step - loss: 0.0032 - accuracy: 0.9996 - val_loss: 0.0722 - val_accuracy: 0.9827\n",
      "Epoch 19/30\n",
      "1750/1750 [==============================] - 20s 11ms/step - loss: 0.0024 - accuracy: 0.9998 - val_loss: 0.0724 - val_accuracy: 0.9843\n",
      "Epoch 20/30\n",
      "1750/1750 [==============================] - 20s 11ms/step - loss: 0.0022 - accuracy: 0.9997 - val_loss: 0.0789 - val_accuracy: 0.9833\n",
      "Epoch 21/30\n",
      "1750/1750 [==============================] - 20s 11ms/step - loss: 0.0018 - accuracy: 0.9999 - val_loss: 0.0741 - val_accuracy: 0.9840\n",
      "Epoch 22/30\n",
      "1750/1750 [==============================] - 21s 12ms/step - loss: 0.0013 - accuracy: 0.9999 - val_loss: 0.0748 - val_accuracy: 0.9833\n",
      "Epoch 23/30\n",
      "1750/1750 [==============================] - 20s 11ms/step - loss: 0.0012 - accuracy: 1.0000 - val_loss: 0.0819 - val_accuracy: 0.9835\n",
      "Epoch 24/30\n",
      "1750/1750 [==============================] - 20s 11ms/step - loss: 0.0011 - accuracy: 1.0000 - val_loss: 0.0773 - val_accuracy: 0.9845\n",
      "Epoch 25/30\n",
      "1750/1750 [==============================] - 20s 12ms/step - loss: 9.5405e-04 - accuracy: 1.0000 - val_loss: 0.0776 - val_accuracy: 0.9837\n",
      "Epoch 26/30\n",
      "1750/1750 [==============================] - 20s 11ms/step - loss: 8.7790e-04 - accuracy: 1.0000 - val_loss: 0.0787 - val_accuracy: 0.9845\n",
      "Epoch 27/30\n",
      "1750/1750 [==============================] - 20s 11ms/step - loss: 8.1940e-04 - accuracy: 1.0000 - val_loss: 0.0778 - val_accuracy: 0.9835\n",
      "Epoch 28/30\n",
      "1750/1750 [==============================] - 20s 11ms/step - loss: 7.4848e-04 - accuracy: 1.0000 - val_loss: 0.0803 - val_accuracy: 0.9843\n",
      "Epoch 29/30\n",
      "1750/1750 [==============================] - 20s 12ms/step - loss: 6.8672e-04 - accuracy: 1.0000 - val_loss: 0.0794 - val_accuracy: 0.9830\n",
      "Epoch 30/30\n",
      "1750/1750 [==============================] - 20s 12ms/step - loss: 6.5029e-04 - accuracy: 1.0000 - val_loss: 0.0808 - val_accuracy: 0.9837\n"
     ]
    }
   ],
   "source": [
    "model.compile(optimizer=tf.keras.optimizers.SGD(learning_rate=0.01, momentum=0.9, nesterov=False, name=\"SGD\"),loss=\"SparseCategoricalCrossentropy\",metrics='accuracy')\n",
    "history_sgd_momentum = model.fit(x_train,y_train,\n",
    "                                 epochs=30,\n",
    "                                 validation_data=(x_train_val,y_train_val),\n",
    "                                 callbacks=tf.keras.callbacks.TensorBoard(\"SGD_with_Momentum_logs/\",write_images=True, update_freq='batch')\n",
    "                                )"
   ]
  },
  {
   "cell_type": "code",
   "execution_count": 17,
   "metadata": {
    "scrolled": true
   },
   "outputs": [
    {
     "name": "stdout",
     "output_type": "stream",
     "text": [
      "The tensorboard extension is already loaded. To reload it, use:\n",
      "  %reload_ext tensorboard\n"
     ]
    },
    {
     "data": {
      "text/html": [
       "\n",
       "      <iframe id=\"tensorboard-frame-552933ff17aab005\" width=\"100%\" height=\"800\" frameborder=\"0\">\n",
       "      </iframe>\n",
       "      <script>\n",
       "        (function() {\n",
       "          const frame = document.getElementById(\"tensorboard-frame-552933ff17aab005\");\n",
       "          const url = new URL(\"/\", window.location);\n",
       "          const port = 6007;\n",
       "          if (port) {\n",
       "            url.port = port;\n",
       "          }\n",
       "          frame.src = url;\n",
       "        })();\n",
       "      </script>\n",
       "    "
      ],
      "text/plain": [
       "<IPython.core.display.HTML object>"
      ]
     },
     "metadata": {},
     "output_type": "display_data"
    }
   ],
   "source": [
    "%load_ext tensorboard\n",
    "%tensorboard --logdir SGD_with_Momentum_logs/"
   ]
  },
  {
   "cell_type": "code",
   "execution_count": 18,
   "metadata": {},
   "outputs": [
    {
     "data": {
      "text/html": [
       "<img src=\"https://i.imgur.com/kVCcaX4.png\"/>"
      ],
      "text/plain": [
       "<IPython.core.display.Image object>"
      ]
     },
     "execution_count": 18,
     "metadata": {},
     "output_type": "execute_result"
    }
   ],
   "source": [
    "Image(url=\"https://i.imgur.com/kVCcaX4.png\")"
   ]
  },
  {
   "cell_type": "code",
   "execution_count": 19,
   "metadata": {},
   "outputs": [
    {
     "data": {
      "text/html": [
       "<img src=\"https://i.imgur.com/vTRVzFG.png\"/>"
      ],
      "text/plain": [
       "<IPython.core.display.Image object>"
      ]
     },
     "execution_count": 19,
     "metadata": {},
     "output_type": "execute_result"
    }
   ],
   "source": [
    "Image(url=\"https://i.imgur.com/vTRVzFG.png\")"
   ]
  },
  {
   "cell_type": "code",
   "execution_count": 20,
   "metadata": {},
   "outputs": [
    {
     "data": {
      "text/html": [
       "<img src=\"https://i.imgur.com/bkKov7x.png\"/>"
      ],
      "text/plain": [
       "<IPython.core.display.Image object>"
      ]
     },
     "execution_count": 20,
     "metadata": {},
     "output_type": "execute_result"
    }
   ],
   "source": [
    "Image(url=\"https://i.imgur.com/bkKov7x.png\")"
   ]
  },
  {
   "cell_type": "code",
   "execution_count": 21,
   "metadata": {},
   "outputs": [
    {
     "data": {
      "text/html": [
       "<img src=\"https://i.imgur.com/gdjFMhC.png\"/>"
      ],
      "text/plain": [
       "<IPython.core.display.Image object>"
      ]
     },
     "execution_count": 21,
     "metadata": {},
     "output_type": "execute_result"
    }
   ],
   "source": [
    "Image(url=\"https://i.imgur.com/gdjFMhC.png\")"
   ]
  },
  {
   "cell_type": "markdown",
   "metadata": {},
   "source": [
    "# Nestrov Optimizer Experiment"
   ]
  },
  {
   "cell_type": "code",
   "execution_count": 49,
   "metadata": {},
   "outputs": [
    {
     "name": "stdout",
     "output_type": "stream",
     "text": [
      "Epoch 1/30\n",
      "1750/1750 [==============================] - 21s 11ms/step - loss: 0.2811 - accuracy: 0.9177 - val_loss: 0.1444 - val_accuracy: 0.9570\n",
      "Epoch 2/30\n",
      "1750/1750 [==============================] - 20s 12ms/step - loss: 0.1311 - accuracy: 0.9605 - val_loss: 0.1287 - val_accuracy: 0.9607\n",
      "Epoch 3/30\n",
      "1750/1750 [==============================] - 20s 12ms/step - loss: 0.0923 - accuracy: 0.9716 - val_loss: 0.0896 - val_accuracy: 0.9712\n",
      "Epoch 4/30\n",
      "1750/1750 [==============================] - 20s 12ms/step - loss: 0.0715 - accuracy: 0.9777 - val_loss: 0.0841 - val_accuracy: 0.9772\n",
      "Epoch 5/30\n",
      "1750/1750 [==============================] - 20s 12ms/step - loss: 0.0572 - accuracy: 0.9819 - val_loss: 0.0739 - val_accuracy: 0.9793\n",
      "Epoch 6/30\n",
      "1750/1750 [==============================] - 20s 12ms/step - loss: 0.0463 - accuracy: 0.9851 - val_loss: 0.0786 - val_accuracy: 0.9775\n",
      "Epoch 7/30\n",
      "1750/1750 [==============================] - 20s 12ms/step - loss: 0.0365 - accuracy: 0.9886 - val_loss: 0.0702 - val_accuracy: 0.9800\n",
      "Epoch 8/30\n",
      "1750/1750 [==============================] - 20s 12ms/step - loss: 0.0300 - accuracy: 0.9902 - val_loss: 0.0697 - val_accuracy: 0.9812\n",
      "Epoch 9/30\n",
      "1750/1750 [==============================] - 20s 12ms/step - loss: 0.0249 - accuracy: 0.9921 - val_loss: 0.0706 - val_accuracy: 0.9815\n",
      "Epoch 10/30\n",
      "1750/1750 [==============================] - 21s 12ms/step - loss: 0.0197 - accuracy: 0.9940 - val_loss: 0.0806 - val_accuracy: 0.9770\n",
      "Epoch 11/30\n",
      "1750/1750 [==============================] - 20s 11ms/step - loss: 0.0162 - accuracy: 0.9952 - val_loss: 0.0763 - val_accuracy: 0.9778\n",
      "Epoch 12/30\n",
      "1750/1750 [==============================] - 20s 12ms/step - loss: 0.0122 - accuracy: 0.9970 - val_loss: 0.0769 - val_accuracy: 0.9790\n",
      "Epoch 13/30\n",
      "1750/1750 [==============================] - 20s 12ms/step - loss: 0.0098 - accuracy: 0.9977 - val_loss: 0.0742 - val_accuracy: 0.9818\n",
      "Epoch 14/30\n",
      "1750/1750 [==============================] - 20s 12ms/step - loss: 0.0081 - accuracy: 0.9982 - val_loss: 0.0741 - val_accuracy: 0.9820\n",
      "Epoch 15/30\n",
      "1750/1750 [==============================] - 20s 11ms/step - loss: 0.0070 - accuracy: 0.9984 - val_loss: 0.0686 - val_accuracy: 0.9830\n",
      "Epoch 16/30\n",
      "1750/1750 [==============================] - 20s 11ms/step - loss: 0.0046 - accuracy: 0.9993 - val_loss: 0.0836 - val_accuracy: 0.9793\n",
      "Epoch 17/30\n",
      "1750/1750 [==============================] - 20s 11ms/step - loss: 0.0036 - accuracy: 0.9994 - val_loss: 0.0757 - val_accuracy: 0.9827\n",
      "Epoch 18/30\n",
      "1750/1750 [==============================] - 20s 11ms/step - loss: 0.0029 - accuracy: 0.9997 - val_loss: 0.0789 - val_accuracy: 0.9820\n",
      "Epoch 19/30\n",
      "1750/1750 [==============================] - 20s 11ms/step - loss: 0.0023 - accuracy: 0.9998 - val_loss: 0.0730 - val_accuracy: 0.9833\n",
      "Epoch 20/30\n",
      "1750/1750 [==============================] - 20s 11ms/step - loss: 0.0018 - accuracy: 0.9999 - val_loss: 0.0801 - val_accuracy: 0.9812\n",
      "Epoch 21/30\n",
      "1750/1750 [==============================] - 20s 11ms/step - loss: 0.0016 - accuracy: 0.9999 - val_loss: 0.0745 - val_accuracy: 0.9830\n",
      "Epoch 22/30\n",
      "1750/1750 [==============================] - 20s 11ms/step - loss: 0.0014 - accuracy: 0.9999 - val_loss: 0.0767 - val_accuracy: 0.9825\n",
      "Epoch 23/30\n",
      "1750/1750 [==============================] - 20s 11ms/step - loss: 0.0012 - accuracy: 0.9999 - val_loss: 0.0787 - val_accuracy: 0.9822\n",
      "Epoch 24/30\n",
      "1750/1750 [==============================] - 20s 11ms/step - loss: 0.0010 - accuracy: 1.0000 - val_loss: 0.0796 - val_accuracy: 0.9825\n",
      "Epoch 25/30\n",
      "1750/1750 [==============================] - 21s 12ms/step - loss: 0.0010 - accuracy: 0.9999 - val_loss: 0.0771 - val_accuracy: 0.9835\n",
      "Epoch 26/30\n",
      "1750/1750 [==============================] - 20s 11ms/step - loss: 8.4015e-04 - accuracy: 1.0000 - val_loss: 0.0809 - val_accuracy: 0.9825\n",
      "Epoch 27/30\n",
      "1750/1750 [==============================] - 21s 12ms/step - loss: 7.8381e-04 - accuracy: 1.0000 - val_loss: 0.0794 - val_accuracy: 0.9833\n",
      "Epoch 28/30\n",
      "1750/1750 [==============================] - 20s 11ms/step - loss: 7.2733e-04 - accuracy: 1.0000 - val_loss: 0.0804 - val_accuracy: 0.9833\n",
      "Epoch 29/30\n",
      "1750/1750 [==============================] - 20s 12ms/step - loss: 6.5896e-04 - accuracy: 1.0000 - val_loss: 0.0808 - val_accuracy: 0.9835\n",
      "Epoch 30/30\n",
      "1750/1750 [==============================] - 19s 11ms/step - loss: 6.3206e-04 - accuracy: 1.0000 - val_loss: 0.0807 - val_accuracy: 0.9833\n"
     ]
    }
   ],
   "source": [
    "model.compile(optimizer=tf.keras.optimizers.SGD(learning_rate=0.01, momentum=0.9, nesterov=True, name=\"SGD\"),loss=\"SparseCategoricalCrossentropy\",metrics='accuracy')\n",
    "history_sgd_momentum_nestrov = model.fit(x_train,y_train,\n",
    "                                         epochs=30,\n",
    "                                         validation_data=(x_train_val,y_train_val),\n",
    "                                        callbacks=tf.keras.callbacks.TensorBoard(\"SGD_With_Momentum(Nestrov)_logs/\",write_images=True, update_freq='batch'))"
   ]
  },
  {
   "cell_type": "code",
   "execution_count": 22,
   "metadata": {
    "scrolled": true
   },
   "outputs": [
    {
     "name": "stdout",
     "output_type": "stream",
     "text": [
      "The tensorboard extension is already loaded. To reload it, use:\n",
      "  %reload_ext tensorboard\n"
     ]
    },
    {
     "data": {
      "text/html": [
       "\n",
       "      <iframe id=\"tensorboard-frame-9eb3a19f69396d3a\" width=\"100%\" height=\"800\" frameborder=\"0\">\n",
       "      </iframe>\n",
       "      <script>\n",
       "        (function() {\n",
       "          const frame = document.getElementById(\"tensorboard-frame-9eb3a19f69396d3a\");\n",
       "          const url = new URL(\"/\", window.location);\n",
       "          const port = 6008;\n",
       "          if (port) {\n",
       "            url.port = port;\n",
       "          }\n",
       "          frame.src = url;\n",
       "        })();\n",
       "      </script>\n",
       "    "
      ],
      "text/plain": [
       "<IPython.core.display.HTML object>"
      ]
     },
     "metadata": {},
     "output_type": "display_data"
    }
   ],
   "source": [
    "%load_ext tensorboard\n",
    "%tensorboard --logdir SGD_With_Momentum(Nestrov)_logs/"
   ]
  },
  {
   "cell_type": "code",
   "execution_count": 23,
   "metadata": {},
   "outputs": [
    {
     "data": {
      "text/html": [
       "<img src=\"https://i.imgur.com/B84IAWU.png\"/>"
      ],
      "text/plain": [
       "<IPython.core.display.Image object>"
      ]
     },
     "execution_count": 23,
     "metadata": {},
     "output_type": "execute_result"
    }
   ],
   "source": [
    "Image(url=\"https://i.imgur.com/B84IAWU.png\")"
   ]
  },
  {
   "cell_type": "code",
   "execution_count": 24,
   "metadata": {},
   "outputs": [
    {
     "data": {
      "text/html": [
       "<img src=\"https://i.imgur.com/YIgFOho.png\"/>"
      ],
      "text/plain": [
       "<IPython.core.display.Image object>"
      ]
     },
     "execution_count": 24,
     "metadata": {},
     "output_type": "execute_result"
    }
   ],
   "source": [
    "Image(url=\"https://i.imgur.com/YIgFOho.png\")"
   ]
  },
  {
   "cell_type": "code",
   "execution_count": 25,
   "metadata": {},
   "outputs": [
    {
     "data": {
      "text/html": [
       "<img src=\"https://i.imgur.com/33J4Aif.png\"/>"
      ],
      "text/plain": [
       "<IPython.core.display.Image object>"
      ]
     },
     "execution_count": 25,
     "metadata": {},
     "output_type": "execute_result"
    }
   ],
   "source": [
    "Image(url=\"https://i.imgur.com/33J4Aif.png\")"
   ]
  },
  {
   "cell_type": "code",
   "execution_count": 26,
   "metadata": {},
   "outputs": [
    {
     "data": {
      "text/html": [
       "<img src=\"https://i.imgur.com/gAFygeo.png\"/>"
      ],
      "text/plain": [
       "<IPython.core.display.Image object>"
      ]
     },
     "execution_count": 26,
     "metadata": {},
     "output_type": "execute_result"
    }
   ],
   "source": [
    "Image(url=\"https://i.imgur.com/gAFygeo.png\")"
   ]
  },
  {
   "cell_type": "markdown",
   "metadata": {},
   "source": [
    "# AdaGrad Optimizers experiment:"
   ]
  },
  {
   "cell_type": "code",
   "execution_count": 37,
   "metadata": {},
   "outputs": [
    {
     "name": "stdout",
     "output_type": "stream",
     "text": [
      "Epoch 1/30\n",
      "1750/1750 [==============================] - 21s 11ms/step - loss: 0.3644 - accuracy: 0.8963 - val_loss: 0.2425 - val_accuracy: 0.9323\n",
      "Epoch 2/30\n",
      "1750/1750 [==============================] - 20s 11ms/step - loss: 0.2324 - accuracy: 0.9338 - val_loss: 0.1942 - val_accuracy: 0.9507\n",
      "Epoch 3/30\n",
      "1750/1750 [==============================] - 19s 11ms/step - loss: 0.1856 - accuracy: 0.9469 - val_loss: 0.1657 - val_accuracy: 0.9565\n",
      "Epoch 4/30\n",
      "1750/1750 [==============================] - 19s 11ms/step - loss: 0.1554 - accuracy: 0.9556 - val_loss: 0.1453 - val_accuracy: 0.9615\n",
      "Epoch 5/30\n",
      "1750/1750 [==============================] - 19s 11ms/step - loss: 0.1343 - accuracy: 0.9614 - val_loss: 0.1297 - val_accuracy: 0.9643\n",
      "Epoch 6/30\n",
      "1750/1750 [==============================] - 19s 11ms/step - loss: 0.1187 - accuracy: 0.9663 - val_loss: 0.1210 - val_accuracy: 0.9657\n",
      "Epoch 7/30\n",
      "1750/1750 [==============================] - 19s 11ms/step - loss: 0.1063 - accuracy: 0.9704 - val_loss: 0.1139 - val_accuracy: 0.9668\n",
      "Epoch 8/30\n",
      "1750/1750 [==============================] - 20s 11ms/step - loss: 0.0970 - accuracy: 0.9729 - val_loss: 0.1072 - val_accuracy: 0.9693\n",
      "Epoch 9/30\n",
      "1750/1750 [==============================] - 20s 11ms/step - loss: 0.0884 - accuracy: 0.9748 - val_loss: 0.1045 - val_accuracy: 0.9697\n",
      "Epoch 10/30\n",
      "1750/1750 [==============================] - 20s 12ms/step - loss: 0.0817 - accuracy: 0.9764 - val_loss: 0.0984 - val_accuracy: 0.9710\n",
      "Epoch 11/30\n",
      "1750/1750 [==============================] - 20s 11ms/step - loss: 0.0758 - accuracy: 0.9783 - val_loss: 0.0952 - val_accuracy: 0.9737\n",
      "Epoch 12/30\n",
      "1750/1750 [==============================] - 20s 11ms/step - loss: 0.0705 - accuracy: 0.9804 - val_loss: 0.0883 - val_accuracy: 0.9753\n",
      "Epoch 13/30\n",
      "1750/1750 [==============================] - 20s 11ms/step - loss: 0.0659 - accuracy: 0.9821 - val_loss: 0.0885 - val_accuracy: 0.9747\n",
      "Epoch 14/30\n",
      "1750/1750 [==============================] - 20s 12ms/step - loss: 0.0619 - accuracy: 0.9829 - val_loss: 0.0858 - val_accuracy: 0.9753\n",
      "Epoch 15/30\n",
      "1750/1750 [==============================] - 20s 12ms/step - loss: 0.0584 - accuracy: 0.9842 - val_loss: 0.0821 - val_accuracy: 0.9750\n",
      "Epoch 16/30\n",
      "1750/1750 [==============================] - 20s 11ms/step - loss: 0.0551 - accuracy: 0.9848 - val_loss: 0.0829 - val_accuracy: 0.9745\n",
      "Epoch 17/30\n",
      "1750/1750 [==============================] - 20s 12ms/step - loss: 0.0521 - accuracy: 0.9856 - val_loss: 0.0795 - val_accuracy: 0.9770\n",
      "Epoch 18/30\n",
      "1750/1750 [==============================] - 21s 12ms/step - loss: 0.0494 - accuracy: 0.9869 - val_loss: 0.0808 - val_accuracy: 0.9747\n",
      "Epoch 19/30\n",
      "1750/1750 [==============================] - 20s 12ms/step - loss: 0.0470 - accuracy: 0.9870 - val_loss: 0.0790 - val_accuracy: 0.9760\n",
      "Epoch 20/30\n",
      "1750/1750 [==============================] - 20s 12ms/step - loss: 0.0445 - accuracy: 0.9883 - val_loss: 0.0780 - val_accuracy: 0.9772\n",
      "Epoch 21/30\n",
      "1750/1750 [==============================] - 20s 11ms/step - loss: 0.0426 - accuracy: 0.9885 - val_loss: 0.0772 - val_accuracy: 0.9770\n",
      "Epoch 22/30\n",
      "1750/1750 [==============================] - 20s 11ms/step - loss: 0.0407 - accuracy: 0.9895 - val_loss: 0.0762 - val_accuracy: 0.9780\n",
      "Epoch 23/30\n",
      "1750/1750 [==============================] - 20s 12ms/step - loss: 0.0389 - accuracy: 0.9897 - val_loss: 0.0750 - val_accuracy: 0.9778\n",
      "Epoch 24/30\n",
      "1750/1750 [==============================] - 20s 11ms/step - loss: 0.0370 - accuracy: 0.9906 - val_loss: 0.0744 - val_accuracy: 0.9783\n",
      "Epoch 25/30\n",
      "1750/1750 [==============================] - 20s 11ms/step - loss: 0.0355 - accuracy: 0.9911 - val_loss: 0.0762 - val_accuracy: 0.9783\n",
      "Epoch 26/30\n",
      "1750/1750 [==============================] - 20s 11ms/step - loss: 0.0339 - accuracy: 0.9918 - val_loss: 0.0732 - val_accuracy: 0.9787\n",
      "Epoch 27/30\n",
      "1750/1750 [==============================] - 19s 11ms/step - loss: 0.0324 - accuracy: 0.9921 - val_loss: 0.0729 - val_accuracy: 0.9795\n",
      "Epoch 28/30\n",
      "1750/1750 [==============================] - 19s 11ms/step - loss: 0.0312 - accuracy: 0.9923 - val_loss: 0.0705 - val_accuracy: 0.9803\n",
      "Epoch 29/30\n",
      "1750/1750 [==============================] - 19s 11ms/step - loss: 0.0298 - accuracy: 0.9930 - val_loss: 0.0722 - val_accuracy: 0.9800\n",
      "Epoch 30/30\n",
      "1750/1750 [==============================] - 19s 11ms/step - loss: 0.0286 - accuracy: 0.9931 - val_loss: 0.0732 - val_accuracy: 0.9790\n"
     ]
    }
   ],
   "source": [
    "model.compile(optimizer=tf.keras.optimizers.Adagrad(\n",
    "    learning_rate=0.01,\n",
    "    initial_accumulator_value=0.1,\n",
    "    epsilon=1e-07,\n",
    "    name=\"Adagrad\"\n",
    "),loss=\"SparseCategoricalCrossentropy\",metrics='accuracy')\n",
    "history_ada_grad = model.fit(x_train,y_train,\n",
    "                             epochs=30,\n",
    "                             validation_data=(x_train_val,y_train_val),\n",
    "                             callbacks=tf.keras.callbacks.TensorBoard(\"Ada_Grad_logs/\",write_images=True, update_freq='batch'))"
   ]
  },
  {
   "cell_type": "code",
   "execution_count": 27,
   "metadata": {},
   "outputs": [
    {
     "name": "stdout",
     "output_type": "stream",
     "text": [
      "The tensorboard extension is already loaded. To reload it, use:\n",
      "  %reload_ext tensorboard\n"
     ]
    },
    {
     "data": {
      "text/html": [
       "\n",
       "      <iframe id=\"tensorboard-frame-43bb779e30ad0d32\" width=\"100%\" height=\"800\" frameborder=\"0\">\n",
       "      </iframe>\n",
       "      <script>\n",
       "        (function() {\n",
       "          const frame = document.getElementById(\"tensorboard-frame-43bb779e30ad0d32\");\n",
       "          const url = new URL(\"/\", window.location);\n",
       "          const port = 6009;\n",
       "          if (port) {\n",
       "            url.port = port;\n",
       "          }\n",
       "          frame.src = url;\n",
       "        })();\n",
       "      </script>\n",
       "    "
      ],
      "text/plain": [
       "<IPython.core.display.HTML object>"
      ]
     },
     "metadata": {},
     "output_type": "display_data"
    }
   ],
   "source": [
    "%load_ext tensorboard\n",
    "%tensorboard --logdir Ada_Grad_logs/"
   ]
  },
  {
   "cell_type": "code",
   "execution_count": 28,
   "metadata": {},
   "outputs": [
    {
     "data": {
      "text/html": [
       "<img src=\"https://i.imgur.com/kvD99xN.png\"/>"
      ],
      "text/plain": [
       "<IPython.core.display.Image object>"
      ]
     },
     "execution_count": 28,
     "metadata": {},
     "output_type": "execute_result"
    }
   ],
   "source": [
    "Image(url=\"https://i.imgur.com/kvD99xN.png\")"
   ]
  },
  {
   "cell_type": "code",
   "execution_count": 29,
   "metadata": {},
   "outputs": [
    {
     "data": {
      "text/html": [
       "<img src=\"https://i.imgur.com/NAWskcb.png\"/>"
      ],
      "text/plain": [
       "<IPython.core.display.Image object>"
      ]
     },
     "execution_count": 29,
     "metadata": {},
     "output_type": "execute_result"
    }
   ],
   "source": [
    "Image(url=\"https://i.imgur.com/NAWskcb.png\")"
   ]
  },
  {
   "cell_type": "code",
   "execution_count": 30,
   "metadata": {},
   "outputs": [
    {
     "data": {
      "text/html": [
       "<img src=\"https://i.imgur.com/zvBOjbQ.png\"/>"
      ],
      "text/plain": [
       "<IPython.core.display.Image object>"
      ]
     },
     "execution_count": 30,
     "metadata": {},
     "output_type": "execute_result"
    }
   ],
   "source": [
    "Image(url=\"https://i.imgur.com/zvBOjbQ.png\")"
   ]
  },
  {
   "cell_type": "code",
   "execution_count": 31,
   "metadata": {},
   "outputs": [
    {
     "data": {
      "text/html": [
       "<img src=\"https://i.imgur.com/L1gsSeM.png\"/>"
      ],
      "text/plain": [
       "<IPython.core.display.Image object>"
      ]
     },
     "execution_count": 31,
     "metadata": {},
     "output_type": "execute_result"
    }
   ],
   "source": [
    "Image(url=\"https://i.imgur.com/L1gsSeM.png\")"
   ]
  },
  {
   "cell_type": "markdown",
   "metadata": {},
   "source": [
    "# Root Mean Square Gradient Optimizer experiment:"
   ]
  },
  {
   "cell_type": "code",
   "execution_count": 17,
   "metadata": {},
   "outputs": [
    {
     "name": "stdout",
     "output_type": "stream",
     "text": [
      "Epoch 1/30\n",
      "1750/1750 [==============================] - 30s 15ms/step - loss: 0.7831 - accuracy: 0.8740 - val_loss: 0.3808 - val_accuracy: 0.9463\n",
      "Epoch 2/30\n",
      "1750/1750 [==============================] - 26s 15ms/step - loss: 0.5008 - accuracy: 0.9355 - val_loss: 0.3452 - val_accuracy: 0.9578\n",
      "Epoch 3/30\n",
      "1750/1750 [==============================] - 26s 15ms/step - loss: 0.4419 - accuracy: 0.9496 - val_loss: 0.5153 - val_accuracy: 0.9475\n",
      "Epoch 4/30\n",
      "1750/1750 [==============================] - 26s 15ms/step - loss: 0.4042 - accuracy: 0.9580 - val_loss: 0.5527 - val_accuracy: 0.9538\n",
      "Epoch 5/30\n",
      "1750/1750 [==============================] - 27s 15ms/step - loss: 0.3811 - accuracy: 0.9621 - val_loss: 0.6062 - val_accuracy: 0.9538\n",
      "Epoch 6/30\n",
      "1750/1750 [==============================] - 25s 14ms/step - loss: 0.3769 - accuracy: 0.9651 - val_loss: 0.4797 - val_accuracy: 0.9680\n",
      "Epoch 7/30\n",
      "1750/1750 [==============================] - 25s 14ms/step - loss: 0.3837 - accuracy: 0.9673 - val_loss: 0.6640 - val_accuracy: 0.9560\n",
      "Epoch 8/30\n",
      "1750/1750 [==============================] - 26s 15ms/step - loss: 0.3502 - accuracy: 0.9697 - val_loss: 0.7068 - val_accuracy: 0.9370\n",
      "Epoch 9/30\n",
      "1750/1750 [==============================] - 26s 15ms/step - loss: 0.3471 - accuracy: 0.9711 - val_loss: 0.7744 - val_accuracy: 0.9632\n",
      "Epoch 10/30\n",
      "1750/1750 [==============================] - 26s 15ms/step - loss: 0.3445 - accuracy: 0.9727 - val_loss: 0.8328 - val_accuracy: 0.9622\n",
      "Epoch 11/30\n",
      "1750/1750 [==============================] - 26s 15ms/step - loss: 0.3430 - accuracy: 0.9742 - val_loss: 0.7342 - val_accuracy: 0.9672\n",
      "Epoch 12/30\n",
      "1750/1750 [==============================] - 26s 15ms/step - loss: 0.3210 - accuracy: 0.9756 - val_loss: 1.0558 - val_accuracy: 0.9632\n",
      "Epoch 13/30\n",
      "1750/1750 [==============================] - 26s 15ms/step - loss: 0.3325 - accuracy: 0.9752 - val_loss: 0.8764 - val_accuracy: 0.9735\n",
      "Epoch 14/30\n",
      "1750/1750 [==============================] - 26s 15ms/step - loss: 0.3461 - accuracy: 0.9775 - val_loss: 0.7700 - val_accuracy: 0.9712\n",
      "Epoch 15/30\n",
      "1750/1750 [==============================] - 26s 15ms/step - loss: 0.3301 - accuracy: 0.9792 - val_loss: 0.8273 - val_accuracy: 0.9645\n",
      "Epoch 16/30\n",
      "1750/1750 [==============================] - 26s 15ms/step - loss: 0.2972 - accuracy: 0.9794 - val_loss: 1.0847 - val_accuracy: 0.9732\n",
      "Epoch 17/30\n",
      "1750/1750 [==============================] - 26s 15ms/step - loss: 0.3233 - accuracy: 0.9798 - val_loss: 0.9238 - val_accuracy: 0.9625\n",
      "Epoch 18/30\n",
      "1750/1750 [==============================] - 26s 15ms/step - loss: 0.2846 - accuracy: 0.9818 - val_loss: 0.7623 - val_accuracy: 0.9715\n",
      "Epoch 19/30\n",
      "1750/1750 [==============================] - 26s 15ms/step - loss: 0.2990 - accuracy: 0.9808 - val_loss: 0.8124 - val_accuracy: 0.9700\n",
      "Epoch 20/30\n",
      "1750/1750 [==============================] - 28s 16ms/step - loss: 0.2761 - accuracy: 0.9813 - val_loss: 1.0784 - val_accuracy: 0.9688\n",
      "Epoch 21/30\n",
      "1750/1750 [==============================] - 26s 15ms/step - loss: 0.2633 - accuracy: 0.9843 - val_loss: 1.3826 - val_accuracy: 0.9703\n",
      "Epoch 22/30\n",
      "1750/1750 [==============================] - 26s 15ms/step - loss: 0.2758 - accuracy: 0.9830 - val_loss: 1.2316 - val_accuracy: 0.9685\n",
      "Epoch 23/30\n",
      "1750/1750 [==============================] - 26s 15ms/step - loss: 0.2862 - accuracy: 0.9835 - val_loss: 1.3257 - val_accuracy: 0.9710\n",
      "Epoch 24/30\n",
      "1750/1750 [==============================] - 26s 15ms/step - loss: 0.2914 - accuracy: 0.9835 - val_loss: 1.1462 - val_accuracy: 0.9682\n",
      "Epoch 25/30\n",
      "1750/1750 [==============================] - 26s 15ms/step - loss: 0.2601 - accuracy: 0.9845 - val_loss: 1.1523 - val_accuracy: 0.9707\n",
      "Epoch 26/30\n",
      "1750/1750 [==============================] - 26s 15ms/step - loss: 0.2658 - accuracy: 0.9838 - val_loss: 1.2489 - val_accuracy: 0.9695\n",
      "Epoch 27/30\n",
      "1750/1750 [==============================] - 26s 15ms/step - loss: 0.2938 - accuracy: 0.9844 - val_loss: 1.2986 - val_accuracy: 0.9722\n",
      "Epoch 28/30\n",
      "1750/1750 [==============================] - 26s 15ms/step - loss: 0.2622 - accuracy: 0.9870 - val_loss: 1.2072 - val_accuracy: 0.9768\n",
      "Epoch 29/30\n",
      "1750/1750 [==============================] - 26s 15ms/step - loss: 0.2645 - accuracy: 0.9867 - val_loss: 1.5746 - val_accuracy: 0.9700\n",
      "Epoch 30/30\n",
      "1750/1750 [==============================] - 26s 15ms/step - loss: 0.2615 - accuracy: 0.9866 - val_loss: 1.4969 - val_accuracy: 0.9657\n"
     ]
    }
   ],
   "source": [
    "model.compile(optimizer=tf.keras.optimizers.RMSprop(\n",
    "    learning_rate=0.01,\n",
    "    rho=0.9,\n",
    "    momentum=0.0,\n",
    "    epsilon=1e-07,\n",
    "    centered=False,\n",
    "    name=\"RMSprop\"\n",
    "),loss=\"SparseCategoricalCrossentropy\",metrics='accuracy')\n",
    "history_rsm_pro = model.fit(x_train,y_train,\n",
    "                            epochs=30,\n",
    "                            validation_data=(x_train_val,y_train_val),\n",
    "                            callbacks=tf.keras.callbacks.TensorBoard(\"Rmsprop_logs/\",write_images=True, update_freq='batch')\n",
    "                           )"
   ]
  },
  {
   "cell_type": "code",
   "execution_count": 32,
   "metadata": {},
   "outputs": [
    {
     "name": "stdout",
     "output_type": "stream",
     "text": [
      "The tensorboard extension is already loaded. To reload it, use:\n",
      "  %reload_ext tensorboard\n"
     ]
    },
    {
     "data": {
      "text/html": [
       "\n",
       "      <iframe id=\"tensorboard-frame-a18f159eb9c30bb3\" width=\"100%\" height=\"800\" frameborder=\"0\">\n",
       "      </iframe>\n",
       "      <script>\n",
       "        (function() {\n",
       "          const frame = document.getElementById(\"tensorboard-frame-a18f159eb9c30bb3\");\n",
       "          const url = new URL(\"/\", window.location);\n",
       "          const port = 6010;\n",
       "          if (port) {\n",
       "            url.port = port;\n",
       "          }\n",
       "          frame.src = url;\n",
       "        })();\n",
       "      </script>\n",
       "    "
      ],
      "text/plain": [
       "<IPython.core.display.HTML object>"
      ]
     },
     "metadata": {},
     "output_type": "display_data"
    }
   ],
   "source": [
    "%load_ext tensorboard\n",
    "%tensorboard --logdir Rmsprop_logs/"
   ]
  },
  {
   "cell_type": "code",
   "execution_count": 34,
   "metadata": {},
   "outputs": [
    {
     "data": {
      "text/html": [
       "<img src=\"https://i.imgur.com/C0LkXGo.png\"/>"
      ],
      "text/plain": [
       "<IPython.core.display.Image object>"
      ]
     },
     "execution_count": 34,
     "metadata": {},
     "output_type": "execute_result"
    }
   ],
   "source": [
    "Image(url=\"https://i.imgur.com/C0LkXGo.png\")"
   ]
  },
  {
   "cell_type": "code",
   "execution_count": 35,
   "metadata": {},
   "outputs": [
    {
     "data": {
      "text/html": [
       "<img src=\"https://i.imgur.com/nsR2j96.png\"/>"
      ],
      "text/plain": [
       "<IPython.core.display.Image object>"
      ]
     },
     "execution_count": 35,
     "metadata": {},
     "output_type": "execute_result"
    }
   ],
   "source": [
    "Image(url=\"https://i.imgur.com/nsR2j96.png\")"
   ]
  },
  {
   "cell_type": "code",
   "execution_count": 36,
   "metadata": {},
   "outputs": [
    {
     "data": {
      "text/html": [
       "<img src=\"https://i.imgur.com/lJbhDIL.png\"/>"
      ],
      "text/plain": [
       "<IPython.core.display.Image object>"
      ]
     },
     "execution_count": 36,
     "metadata": {},
     "output_type": "execute_result"
    }
   ],
   "source": [
    "Image(url=\"https://i.imgur.com/lJbhDIL.png\")"
   ]
  },
  {
   "cell_type": "code",
   "execution_count": 37,
   "metadata": {},
   "outputs": [
    {
     "data": {
      "text/html": [
       "<img src=\"https://i.imgur.com/ZcrdETt.png\"/>"
      ],
      "text/plain": [
       "<IPython.core.display.Image object>"
      ]
     },
     "execution_count": 37,
     "metadata": {},
     "output_type": "execute_result"
    }
   ],
   "source": [
    "Image(url=\"https://i.imgur.com/ZcrdETt.png\")"
   ]
  },
  {
   "cell_type": "markdown",
   "metadata": {},
   "source": [
    "# Adapative Momentum Estimation Optimizer Experiment:"
   ]
  },
  {
   "cell_type": "code",
   "execution_count": 6,
   "metadata": {},
   "outputs": [
    {
     "name": "stdout",
     "output_type": "stream",
     "text": [
      "Epoch 1/30\n",
      "1750/1750 [==============================] - 42s 22ms/step - loss: 0.4313 - accuracy: 0.8945 - val_loss: 0.3546 - val_accuracy: 0.9315\n",
      "Epoch 2/30\n",
      "1750/1750 [==============================] - 37s 21ms/step - loss: 0.3225 - accuracy: 0.9352 - val_loss: 0.3806 - val_accuracy: 0.9370\n",
      "Epoch 3/30\n",
      "1750/1750 [==============================] - 37s 21ms/step - loss: 0.2738 - accuracy: 0.9489 - val_loss: 0.3740 - val_accuracy: 0.9523\n",
      "Epoch 4/30\n",
      "1750/1750 [==============================] - 37s 21ms/step - loss: 0.2577 - accuracy: 0.9546 - val_loss: 0.2668 - val_accuracy: 0.9585\n",
      "Epoch 5/30\n",
      "1750/1750 [==============================] - 38s 22ms/step - loss: 0.2494 - accuracy: 0.9594 - val_loss: 0.2404 - val_accuracy: 0.9560\n",
      "Epoch 6/30\n",
      "1750/1750 [==============================] - 38s 21ms/step - loss: 0.2465 - accuracy: 0.9627 - val_loss: 0.2899 - val_accuracy: 0.9613\n",
      "Epoch 7/30\n",
      "1750/1750 [==============================] - 38s 22ms/step - loss: 0.2141 - accuracy: 0.9674 - val_loss: 0.3561 - val_accuracy: 0.9615\n",
      "Epoch 8/30\n",
      "1750/1750 [==============================] - 39s 22ms/step - loss: 0.2290 - accuracy: 0.9677 - val_loss: 0.3149 - val_accuracy: 0.9660oss: 0.2301 - \n",
      "Epoch 9/30\n",
      "1750/1750 [==============================] - 36s 21ms/step - loss: 0.2050 - accuracy: 0.9702 - val_loss: 0.4158 - val_accuracy: 0.9625\n",
      "Epoch 10/30\n",
      "1750/1750 [==============================] - 35s 20ms/step - loss: 0.2087 - accuracy: 0.9720 - val_loss: 0.4101 - val_accuracy: 0.9600\n",
      "Epoch 11/30\n",
      "1750/1750 [==============================] - 35s 20ms/step - loss: 0.2235 - accuracy: 0.9734 - val_loss: 0.3073 - val_accuracy: 0.9680\n",
      "Epoch 12/30\n",
      "1750/1750 [==============================] - 24s 14ms/step - loss: 0.2192 - accuracy: 0.9728 - val_loss: 0.3638 - val_accuracy: 0.9640\n",
      "Epoch 13/30\n",
      "1750/1750 [==============================] - 22s 13ms/step - loss: 0.2000 - accuracy: 0.9738 - val_loss: 0.4636 - val_accuracy: 0.9578\n",
      "Epoch 14/30\n",
      "1750/1750 [==============================] - 23s 13ms/step - loss: 0.2242 - accuracy: 0.9744 - val_loss: 0.4624 - val_accuracy: 0.9535\n",
      "Epoch 15/30\n",
      "1750/1750 [==============================] - 23s 13ms/step - loss: 0.1780 - accuracy: 0.9754 - val_loss: 0.5005 - val_accuracy: 0.9647\n",
      "Epoch 16/30\n",
      "1750/1750 [==============================] - 22s 13ms/step - loss: 0.2105 - accuracy: 0.9750 - val_loss: 0.9394 - val_accuracy: 0.9567\n",
      "Epoch 17/30\n",
      "1750/1750 [==============================] - 22s 13ms/step - loss: 0.1841 - accuracy: 0.9775 - val_loss: 0.4598 - val_accuracy: 0.9655\n",
      "Epoch 18/30\n",
      "1750/1750 [==============================] - 22s 13ms/step - loss: 0.1827 - accuracy: 0.9779 - val_loss: 0.4754 - val_accuracy: 0.9613\n",
      "Epoch 19/30\n",
      "1750/1750 [==============================] - 22s 13ms/step - loss: 0.1875 - accuracy: 0.9782 - val_loss: 0.5954 - val_accuracy: 0.9663\n",
      "Epoch 20/30\n",
      "1750/1750 [==============================] - 23s 13ms/step - loss: 0.2047 - accuracy: 0.9781 - val_loss: 0.5347 - val_accuracy: 0.9600\n",
      "Epoch 21/30\n",
      "1750/1750 [==============================] - 22s 13ms/step - loss: 0.1806 - accuracy: 0.9799 - val_loss: 0.6828 - val_accuracy: 0.9707\n",
      "Epoch 22/30\n",
      "1750/1750 [==============================] - 22s 13ms/step - loss: 0.1906 - accuracy: 0.9793 - val_loss: 0.6031 - val_accuracy: 0.9685\n",
      "Epoch 23/30\n",
      "1750/1750 [==============================] - 22s 13ms/step - loss: 0.2107 - accuracy: 0.9777 - val_loss: 0.6243 - val_accuracy: 0.9695\n",
      "Epoch 24/30\n",
      "1750/1750 [==============================] - 22s 13ms/step - loss: 0.2226 - accuracy: 0.9788 - val_loss: 0.8374 - val_accuracy: 0.9570\n",
      "Epoch 25/30\n",
      "1750/1750 [==============================] - 22s 13ms/step - loss: 0.1828 - accuracy: 0.9809 - val_loss: 0.9568 - val_accuracy: 0.9665\n",
      "Epoch 26/30\n",
      "1750/1750 [==============================] - 22s 13ms/step - loss: 0.1886 - accuracy: 0.9808 - val_loss: 0.6130 - val_accuracy: 0.9670\n",
      "Epoch 27/30\n",
      "1750/1750 [==============================] - 22s 13ms/step - loss: 0.1822 - accuracy: 0.9802 - val_loss: 0.6537 - val_accuracy: 0.9678\n",
      "Epoch 28/30\n",
      "1750/1750 [==============================] - 23s 13ms/step - loss: 0.1792 - accuracy: 0.9809 - val_loss: 0.7445 - val_accuracy: 0.9635\n",
      "Epoch 29/30\n",
      "1750/1750 [==============================] - 22s 13ms/step - loss: 0.1879 - accuracy: 0.9815 - val_loss: 0.6646 - val_accuracy: 0.9675\n",
      "Epoch 30/30\n",
      "1750/1750 [==============================] - 22s 13ms/step - loss: 0.1883 - accuracy: 0.9823 - val_loss: 0.8458 - val_accuracy: 0.9647\n"
     ]
    }
   ],
   "source": [
    "\n",
    "model.compile(optimizer=tf.keras.optimizers.Adam(\n",
    "    learning_rate=0.01,\n",
    "    beta_1=0.9,\n",
    "    beta_2=0.999,\n",
    "    epsilon=1e-07,\n",
    "    amsgrad=False,\n",
    "    name=\"Adam\"\n",
    "),loss=\"SparseCategoricalCrossentropy\",metrics='accuracy')\n",
    "history_adam = model.fit(x_train,y_train,\n",
    "                         epochs=30,\n",
    "                         validation_data=(x_train_val,y_train_val),\n",
    "                        callbacks=tf.keras.callbacks.TensorBoard(\"Adam_logs/\",write_images=True, update_freq='batch')\n",
    "                        )"
   ]
  },
  {
   "cell_type": "code",
   "execution_count": 33,
   "metadata": {},
   "outputs": [
    {
     "name": "stdout",
     "output_type": "stream",
     "text": [
      "The tensorboard extension is already loaded. To reload it, use:\n",
      "  %reload_ext tensorboard\n"
     ]
    },
    {
     "data": {
      "text/html": [
       "\n",
       "      <iframe id=\"tensorboard-frame-75488107e1192339\" width=\"100%\" height=\"800\" frameborder=\"0\">\n",
       "      </iframe>\n",
       "      <script>\n",
       "        (function() {\n",
       "          const frame = document.getElementById(\"tensorboard-frame-75488107e1192339\");\n",
       "          const url = new URL(\"/\", window.location);\n",
       "          const port = 6011;\n",
       "          if (port) {\n",
       "            url.port = port;\n",
       "          }\n",
       "          frame.src = url;\n",
       "        })();\n",
       "      </script>\n",
       "    "
      ],
      "text/plain": [
       "<IPython.core.display.HTML object>"
      ]
     },
     "metadata": {},
     "output_type": "display_data"
    }
   ],
   "source": [
    "%load_ext tensorboard\n",
    "%tensorboard --logdir Adam_logs/"
   ]
  },
  {
   "cell_type": "code",
   "execution_count": 39,
   "metadata": {},
   "outputs": [
    {
     "data": {
      "text/html": [
       "<img src=\"https://i.imgur.com/VJ1Ggvw.png\"/>"
      ],
      "text/plain": [
       "<IPython.core.display.Image object>"
      ]
     },
     "execution_count": 39,
     "metadata": {},
     "output_type": "execute_result"
    }
   ],
   "source": [
    "Image(url=\"https://i.imgur.com/VJ1Ggvw.png\")"
   ]
  },
  {
   "cell_type": "code",
   "execution_count": 40,
   "metadata": {},
   "outputs": [
    {
     "data": {
      "text/html": [
       "<img src=\"https://i.imgur.com/5aqCK6f.png\"/>"
      ],
      "text/plain": [
       "<IPython.core.display.Image object>"
      ]
     },
     "execution_count": 40,
     "metadata": {},
     "output_type": "execute_result"
    }
   ],
   "source": [
    "Image(url=\"https://i.imgur.com/5aqCK6f.png\")"
   ]
  },
  {
   "cell_type": "code",
   "execution_count": 41,
   "metadata": {},
   "outputs": [
    {
     "data": {
      "text/html": [
       "<img src=\"https://i.imgur.com/Rp87b4y.png\"/>"
      ],
      "text/plain": [
       "<IPython.core.display.Image object>"
      ]
     },
     "execution_count": 41,
     "metadata": {},
     "output_type": "execute_result"
    }
   ],
   "source": [
    "Image(url=\"https://i.imgur.com/Rp87b4y.png\")"
   ]
  },
  {
   "cell_type": "code",
   "execution_count": 42,
   "metadata": {},
   "outputs": [
    {
     "data": {
      "text/html": [
       "<img src=\"https://i.imgur.com/7YUFlp1.png\"/>"
      ],
      "text/plain": [
       "<IPython.core.display.Image object>"
      ]
     },
     "execution_count": 42,
     "metadata": {},
     "output_type": "execute_result"
    }
   ],
   "source": [
    "Image(url=\"https://i.imgur.com/7YUFlp1.png\")"
   ]
  },
  {
   "cell_type": "code",
   "execution_count": 77,
   "metadata": {},
   "outputs": [
    {
     "data": {
      "text/plain": [
       "<matplotlib.legend.Legend at 0x7f5ba4b1d7f0>"
      ]
     },
     "execution_count": 77,
     "metadata": {},
     "output_type": "execute_result"
    },
    {
     "data": {
      "image/png": "[encoded data removed]",
      "text/plain": [
       "<Figure size 2160x2160 with 6 Axes>"
      ]
     },
     "metadata": {},
     "output_type": "display_data"
    }
   ],
   "source": [
    "plt.subplots(figsize=(30,30))\n",
    "\n",
    "plt.subplot(3,3,1)\n",
    "plt.plot(np.arange(1,31),history_sgd.history[\"loss\"],label=\"loss\")\n",
    "plt.plot(np.arange(1,31),history_sgd.history[\"val_loss\"],label=\"val_loss\")\n",
    "plt.title(\"SGD\")\n",
    "plt.legend()\n",
    "\n",
    "plt.subplot(3,3,2)\n",
    "plt.plot(np.arange(1,31),history_sgd_momentum.history[\"loss\"],label=\"loss\")\n",
    "plt.plot(np.arange(1,31),history_sgd_momentum.history[\"val_loss\"],label=\"val_loss\")\n",
    "plt.title(\"SGD WITH MOMENTUM\")\n",
    "plt.legend()\n",
    "\n",
    "plt.subplot(3,3,3)\n",
    "plt.title(\"SGD WITH MOMENTUM(NSETROV)\")\n",
    "plt.plot(np.arange(1,31),history_sgd_momentum_nestrov.history[\"loss\"], label=\"loss\")\n",
    "plt.plot(np.arange(1,31),history_sgd_momentum_nestrov.history[\"val_loss\"], label=\"val_loss\")\n",
    "plt.legend()\n",
    "\n",
    "plt.subplot(3,3,4)\n",
    "plt.title(\"Adapative Gradient\")\n",
    "plt.plot(np.arange(1,31),history_ada_grad.history[\"loss\"], label=\"loss\")\n",
    "plt.plot(np.arange(1,31),history_ada_grad.history[\"val_loss\"], label=\"val_loss\")\n",
    "plt.legend()\n",
    "\n",
    "plt.subplot(3,3,5)\n",
    "plt.title(\"Root Mean Square Gradient\")\n",
    "plt.plot(np.arange(1,31),history_rsm_pro.history[\"loss\"], label=\"loss\")\n",
    "plt.plot(np.arange(1,31),history_rsm_pro.history[\"val_loss\"],label=\"val_loss\")\n",
    "plt.legend()\n",
    "\n",
    "plt.subplot(3,3,6)\n",
    "plt.title(\"Adaptive Moment Estimation\")\n",
    "plt.plot(np.arange(1,31),history_adam.history[\"loss\"],label=\"loss\")\n",
    "plt.plot(np.arange(1,31),history_adam.history[\"val_loss\"],label=\"val_loss\")\n",
    "plt.legend()"
   ]
  },
  {
   "cell_type": "markdown",
   "metadata": {},
   "source": [
    "# OverAll Observation:\n",
    "\n",
    "* Adam Optimizer is higher better than previous optimizers,beacuse fast converging, bias correction, faster trainig \n",
    "\n",
    "\n",
    "* It combine both RmsPro and adaGrad optimizers"
   ]
  }
 ],
 "metadata": {
  "kernelspec": {
   "display_name": "Python 3",
   "language": "python",
   "name": "python3"
  },
  "language_info": {
   "codemirror_mode": {
    "name": "ipython",
    "version": 3
   },
   "file_extension": ".py",
   "mimetype": "text/x-python",
   "name": "python",
   "nbconvert_exporter": "python",
   "pygments_lexer": "ipython3",
   "version": "3.8.10"
  }
 },
 "nbformat": 4,
 "nbformat_minor": 4
}
